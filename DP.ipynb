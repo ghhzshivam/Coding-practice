{
 "cells": [
  {
   "attachments": {},
   "cell_type": "markdown",
   "metadata": {},
   "source": [
    "DP + recursion with optimised solution "
   ]
  },
  {
   "cell_type": "code",
   "execution_count": null,
   "metadata": {},
   "outputs": [],
   "source": []
  },
  {
   "cell_type": "code",
   "execution_count": 7,
   "metadata": {},
   "outputs": [],
   "source": [
    "import time"
   ]
  },
  {
   "cell_type": "code",
   "execution_count": 18,
   "metadata": {},
   "outputs": [
    {
     "data": {
      "text/plain": [
       "24"
      ]
     },
     "execution_count": 18,
     "metadata": {},
     "output_type": "execute_result"
    }
   ],
   "source": [
    "###Ugly numbers are n\n",
    "# umbers whose only prime factors are 2, 3 or 5. The sequence 1, 2, 3, 4, 5, 6, 8, 9, 10, 12, 15, … shows the first 11 ugly \n",
    "# numbers. By convention, 1 is included. \n",
    "# Given a nu\n",
    "# mber n, the task is to find n’th Ugly number.\n",
    "\n",
    "\n",
    "def macDivide(a,b):\n",
    "    while a%b == 0:\n",
    "        a = a/b\n",
    "    return a\n",
    "\n",
    "def isugly(no):\n",
    "    no = macDivide(no,2)\n",
    "    no = macDivide(no,3)\n",
    "    no = macDivide(no,5)\n",
    "    return 1 if no ==1 else 0\n",
    "\n",
    "def getbthugly(n):\n",
    "    i = 1\n",
    "    count = 1\n",
    "\n",
    "    while n>count:\n",
    "        i+=1\n",
    "        if isugly(i):\n",
    "            count +=1\n",
    "    return i\n",
    "\n",
    "no = getbthugly(15)\n",
    "no\n"
   ]
  },
  {
   "cell_type": "code",
   "execution_count": 6,
   "metadata": {},
   "outputs": [
    {
     "data": {
      "text/plain": [
       "18"
      ]
     },
     "execution_count": 6,
     "metadata": {},
     "output_type": "execute_result"
    }
   ],
   "source": [
    "# The Fibonacci numbers are the numbers in the following integer sequence.\n",
    "# 0, 1, 1, 2, 3, 5, 8, 13, 21, 34, 55, 89, 144, ……..\n",
    "\n",
    "# only recursion is used\n",
    "f = [0,1]\n",
    "\n",
    "def fib(n):\n",
    "    if n<5:\n",
    "        return n\n",
    "    return fib(n-1)+fib(n-2)\n",
    "\n",
    "\n",
    "# fib(5)\n",
    "\n",
    "# DP\n",
    "\n",
    "def fibo(n):\n",
    "    a = [i for i in  range(n)]\n",
    "    a[0] = 0\n",
    "    a[1] = 1\n",
    "\n",
    "    for i in  range(2,n):\n",
    "        a[i] = a[i-1]+a[i-2]\n",
    "    return a[-1]\n",
    "\n",
    "fib(7)"
   ]
  },
  {
   "cell_type": "code",
   "execution_count": 10,
   "metadata": {},
   "outputs": [
    {
     "name": "stdout",
     "output_type": "stream",
     "text": [
      "1\n",
      "0.0010046958923339844\n"
     ]
    }
   ],
   "source": [
    "# Catalan numbers are defined as a mathematical sequence that consists of positive integers, which can be used to find the number of \n",
    "# possibilities of various combinations. \n",
    "start = time.time()\n",
    "def fac(n):\n",
    "    if n == 1:\n",
    "        return 1\n",
    "    else:\n",
    "        return n*fac(n-1)\n",
    "\n",
    "def catlan_no(n):\n",
    "    if n ==0 or n==1:\n",
    "        return 1\n",
    "    a = fac(2*n)/(fac(n+1)*fac(n))\n",
    "\n",
    "    return a\n",
    "\n",
    "\n",
    "a = catlan_no(0)\n",
    "end = time.time()\n",
    "print(a)\n",
    "print(end-start)"
   ]
  },
  {
   "cell_type": "code",
   "execution_count": 19,
   "metadata": {},
   "outputs": [
    {
     "data": {
      "text/plain": [
       "5"
      ]
     },
     "execution_count": 19,
     "metadata": {},
     "output_type": "execute_result"
    }
   ],
   "source": [
    "# Bell Numbers (Number of ways to Partition a Set)\n",
    "# Input:  n = 2\n",
    "# Output: Number of ways = 2\n",
    "# Explanation: Let the set be {1, 2}\n",
    "#             { {1}, {2} } \n",
    "#             { {1, 2} }\n",
    "\n",
    "# The triangle is constructed using below formula. \n",
    " \n",
    "\n",
    "# // If this is first column of current row 'i'\n",
    "# If j == 0\n",
    "#    // Then copy last entry of previous row\n",
    "#    // Note that i'th row has i entries\n",
    "#    Bell(i, j) = Bell(i-1, i-1) \n",
    "\n",
    "# // If this is not first column of current row\n",
    "# Else \n",
    "#    // Then this element is sum of previous element \n",
    "#    // in current row and the element just above the\n",
    "#    // previous element\n",
    "#    Bell(i, j) = Bell(i-1, j-1) + Bell(i, j-1)\n",
    "\n",
    "\n",
    "def bellno(n):\n",
    "\n",
    "    bell = [[0 for _ in range(n+1)] for j in range(n+1)]\n",
    "\n",
    "    # first row first column = 1\n",
    "    bell[0][0] = 1\n",
    "\n",
    "    for i in range(1,n+1):\n",
    "\n",
    "        # every row 1st column is the last no in the previous row\n",
    "        bell[i][0] = bell[i-1][i-1]\n",
    "\n",
    "        for j in range(1, i+1):\n",
    "\n",
    "            bell[i][j] = bell[i-1][j-1]+bell[i][j-1]\n",
    "        \n",
    "\n",
    "\n",
    "    return bell[n][0]\n",
    "\n",
    "bellno(3)"
   ]
  },
  {
   "cell_type": "code",
   "execution_count": null,
   "metadata": {},
   "outputs": [],
   "source": [
    "# Plotly donda"
   ]
  },
  {
   "cell_type": "code",
   "execution_count": 36,
   "metadata": {},
   "outputs": [
    {
     "data": {
      "text/plain": [
       "[[1, 0, 0, 0, 0, 0, 0, 0, 0, 0],\n",
       " [1, 1, 0, 0, 0, 0, 0, 0, 0, 0],\n",
       " [1, 2, 1, 0, 0, 0, 0, 0, 0, 0],\n",
       " [1, 3, 3, 1, 0, 0, 0, 0, 0, 0],\n",
       " [1, 4, 6, 4, 1, 0, 0, 0, 0, 0],\n",
       " [1, 5, 10, 10, 5, 1, 0, 0, 0, 0],\n",
       " [1, 6, 15, 20, 15, 6, 1, 0, 0, 0],\n",
       " [1, 7, 21, 35, 35, 21, 7, 1, 0, 0],\n",
       " [1, 8, 28, 56, 70, 56, 28, 8, 1, 0],\n",
       " [1, 9, 36, 84, 126, 126, 84, 36, 9, 1]]"
      ]
     },
     "execution_count": 36,
     "metadata": {},
     "output_type": "execute_result"
    }
   ],
   "source": [
    "# Pascal triangle\n",
    "def pascal_triangle(n):\n",
    "    l = [[0 for i in range(n)]for  z in range(n)]\n",
    "\n",
    "    l[0][0] = 1\n",
    "\n",
    "    for i in range(1,n ):\n",
    "        l[i][0] = l[i-1][0]\n",
    "        for j in range(n):\n",
    "            if j > 0:\n",
    "                l[i][j] = l[i-1][j-1] + l[i-1][j]\n",
    "    return l\n",
    "\n",
    "pascal_triangle(10)"
   ]
  },
  {
   "cell_type": "code",
   "execution_count": 17,
   "metadata": {},
   "outputs": [
    {
     "name": "stdout",
     "output_type": "stream",
     "text": [
      "l:  ['AGGTAB', 'GGTAB', 'GTAB', 'TAB', 'AB', 'B']\n",
      "x:  ['GXTXAYB', 'XTXAYB', 'TXAYB', 'XAYB', 'AYB', 'YB', 'B']\n",
      "m:  1\n",
      "s:  B\n"
     ]
    }
   ],
   "source": [
    "# Longest common subsequence.\n",
    "\n",
    "def longest_sub_seq(s1, s2):\n",
    "    l = []\n",
    "    x = []\n",
    "    for i in range(len(s1)):\n",
    "        a = s1[i]\n",
    "        for j in range(i+1, len(s1)):\n",
    "            a += s1[j]\n",
    "        l.append(a) \n",
    "\n",
    "    for i in range(len(s2)):\n",
    "        a = s2[i]\n",
    "        for j in range(i+1, len(s2)):\n",
    "            a += s2[j]\n",
    "        x.append(a) \n",
    "\n",
    "    m = 0\n",
    "    p = ''\n",
    "    for i in l:\n",
    "        if i in x and len(i)>m:\n",
    "            m = len(i)\n",
    "            p = i\n",
    "\n",
    "    print('l: ', l)\n",
    "    print('x: ', x)\n",
    "    print('m: ', m)\n",
    "    print('s: ', p)\n",
    "\n",
    "\n",
    "s1 = 'AGGTAB'\n",
    "s2 = 'GXTXAYB'\n",
    "longest_sub_seq(s1,s2)"
   ]
  },
  {
   "cell_type": "code",
   "execution_count": 23,
   "metadata": {},
   "outputs": [
    {
     "name": "stdout",
     "output_type": "stream",
     "text": [
      "Length of LCS is 4\n"
     ]
    }
   ],
   "source": [
    "def lcs(X, Y, m, n):\n",
    "    if m == 0 or n == 0:\n",
    "        return 0\n",
    "    elif X[m-1] == Y[n-1]:\n",
    "        return 1 + lcs(X, Y, m-1, n-1)\n",
    "    else:\n",
    "        return max(lcs(X, Y, m, n-1), lcs(X, Y, m-1, n))\n",
    " \n",
    " \n",
    "# Driver code\n",
    "if __name__ == '__main__':\n",
    "    S1 = \"AGGTAB\"\n",
    "    S2 = \"GXTXAYB\"\n",
    "    print(\"Length of LCS is\", lcs(S1, S2, len(S1), len(S2)))"
   ]
  },
  {
   "cell_type": "code",
   "execution_count": 3,
   "metadata": {},
   "outputs": [
    {
     "data": {
      "text/plain": [
       "[[0, 0, 0, 0, 0, 0, 0, 0, 0, 0, 0, 0, 0, 0, 0],\n",
       " [0, 0, 0, 0, 0, 0, 0, 0, 0, 0, 0, 0, 0, 0, 0],\n",
       " [0, 0, 0, 0, 0, 0, 0, 0, 0, 0, 0, 0, 0, 0, 0],\n",
       " [0, 0, 0, 0, 0, 0, 0, 0, 0, 0, 0, 0, 0, 0, 0],\n",
       " [0, 0, 0, 0, 0, 0, 0, 0, 0, 0, 0, 0, 0, 0, 0],\n",
       " [0, 0, 0, 0, 0, 0, 0, 0, 0, 0, 0, 0, 0, 0, 0],\n",
       " [0, 0, 0, 0, 0, 0, 0, 0, 0, 0, 0, 0, 0, 0, 0],\n",
       " [0, 0, 0, 0, 0, 0, 0, 0, 0, 0, 0, 0, 0, 0, 0],\n",
       " [0, 0, 0, 0, 0, 0, 0, 0, 0, 0, 0, 0, 0, 0, 0],\n",
       " [0, 0, 0, 0, 0, 0, 0, 0, 0, 0, 0, 0, 0, 0, 0],\n",
       " [0, 0, 0, 0, 0, 0, 0, 0, 0, 0, 0, 0, 0, 0, 0],\n",
       " [0, 0, 0, 0, 0, 0, 0, 0, 0, 0, 0, 0, 0, 0, 0],\n",
       " [0, 0, 0, 0, 0, 0, 0, 0, 0, 0, 0, 0, 0, 0, 0],\n",
       " [0, 0, 0, 0, 0, 0, 0, 0, 0, 0, 0, 0, 0, 0, 0],\n",
       " [0, 0, 0, 0, 0, 0, 0, 0, 0, 0, 0, 0, 0, 0, 0]]"
      ]
     },
     "execution_count": 3,
     "metadata": {},
     "output_type": "execute_result"
    }
   ],
   "source": [
    "# Dp \n",
    "\n",
    "dp  = [[0 for i in range(15)]for j in range(15) ]\n",
    "dp"
   ]
  },
  {
   "cell_type": "code",
   "execution_count": null,
   "metadata": {},
   "outputs": [],
   "source": []
  }
 ],
 "metadata": {
  "kernelspec": {
   "display_name": "Python 3.9.7 ('base')",
   "language": "python",
   "name": "python3"
  },
  "language_info": {
   "codemirror_mode": {
    "name": "ipython",
    "version": 3
   },
   "file_extension": ".py",
   "mimetype": "text/x-python",
   "name": "python",
   "nbconvert_exporter": "python",
   "pygments_lexer": "ipython3",
   "version": "3.9.7"
  },
  "orig_nbformat": 4,
  "vscode": {
   "interpreter": {
    "hash": "ad2bdc8ecc057115af97d19610ffacc2b4e99fae6737bb82f5d7fb13d2f2c186"
   }
  }
 },
 "nbformat": 4,
 "nbformat_minor": 2
}
