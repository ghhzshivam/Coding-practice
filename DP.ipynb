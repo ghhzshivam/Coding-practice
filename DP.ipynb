{
 "cells": [
  {
   "cell_type": "code",
   "execution_count": 7,
   "metadata": {},
   "outputs": [],
   "source": [
    "import time"
   ]
  },
  {
   "cell_type": "code",
   "execution_count": 18,
   "metadata": {},
   "outputs": [
    {
     "data": {
      "text/plain": [
       "24"
      ]
     },
     "execution_count": 18,
     "metadata": {},
     "output_type": "execute_result"
    }
   ],
   "source": [
    "###Ugly numbers are numbers whose only prime factors are 2, 3 or 5. The sequence 1, 2, 3, 4, 5, 6, 8, 9, 10, 12, 15, … shows the first 11 ugly \n",
    "# numbers. By convention, 1 is included. \n",
    "# Given a nu\n",
    "# mber n, the task is to find n’th Ugly number.\n",
    "\n",
    "\n",
    "def macDivide(a,b):\n",
    "    while a%b == 0:\n",
    "        a = a/b\n",
    "    return a\n",
    "\n",
    "def isugly(no):\n",
    "    no = macDivide(no,2)\n",
    "    no = macDivide(no,3)\n",
    "    no = macDivide(no,5)\n",
    "    return 1 if no ==1 else 0\n",
    "\n",
    "def getbthugly(n):\n",
    "    i = 1\n",
    "    count = 1\n",
    "\n",
    "    while n>count:\n",
    "        i+=1\n",
    "        if isugly(i):\n",
    "            count +=1\n",
    "    return i\n",
    "\n",
    "no = getbthugly(15)\n",
    "no\n"
   ]
  },
  {
   "cell_type": "code",
   "execution_count": 3,
   "metadata": {},
   "outputs": [
    {
     "data": {
      "text/plain": [
       "7"
      ]
     },
     "execution_count": 3,
     "metadata": {},
     "output_type": "execute_result"
    }
   ],
   "source": [
    "# The Fibonacci numbers are the numbers in the following integer sequence.\n",
    "# 0, 1, 1, 2, 3, 5, 8, 13, 21, 34, 55, 89, 144, ……..\n",
    "\n",
    "\n",
    "f = [0,1]\n",
    "\n",
    "def fib(n):\n",
    "    if n<5:\n",
    "        return n\n",
    "    return fib(n-1)+fib(n-2)\n",
    "\n",
    "\n",
    "fib(5)\n",
    "\n"
   ]
  },
  {
   "cell_type": "code",
   "execution_count": 10,
   "metadata": {},
   "outputs": [
    {
     "name": "stdout",
     "output_type": "stream",
     "text": [
      "1\n",
      "0.0010046958923339844\n"
     ]
    }
   ],
   "source": [
    "# Catalan numbers are defined as a mathematical sequence that consists of positive integers, which can be used to find the number of \n",
    "# possibilities of various combinations. \n",
    "start = time.time()\n",
    "def fac(n):\n",
    "    if n == 1:\n",
    "        return 1\n",
    "    else:\n",
    "        return n*fac(n-1)\n",
    "\n",
    "def catlan_no(n):\n",
    "    if n ==0 or n==1:\n",
    "        return 1\n",
    "    a = fac(2*n)/(fac(n+1)*fac(n))\n",
    "\n",
    "    return a\n",
    "\n",
    "\n",
    "a = catlan_no(0)\n",
    "end = time.time()\n",
    "print(a)\n",
    "print(end-start)"
   ]
  },
  {
   "cell_type": "code",
   "execution_count": 19,
   "metadata": {},
   "outputs": [
    {
     "data": {
      "text/plain": [
       "5"
      ]
     },
     "execution_count": 19,
     "metadata": {},
     "output_type": "execute_result"
    }
   ],
   "source": [
    "# Bell Numbers (Number of ways to Partition a Set)\n",
    "# Input:  n = 2\n",
    "# Output: Number of ways = 2\n",
    "# Explanation: Let the set be {1, 2}\n",
    "#             { {1}, {2} } \n",
    "#             { {1, 2} }\n",
    "\n",
    "# The triangle is constructed using below formula. \n",
    " \n",
    "\n",
    "# // If this is first column of current row 'i'\n",
    "# If j == 0\n",
    "#    // Then copy last entry of previous row\n",
    "#    // Note that i'th row has i entries\n",
    "#    Bell(i, j) = Bell(i-1, i-1) \n",
    "\n",
    "# // If this is not first column of current row\n",
    "# Else \n",
    "#    // Then this element is sum of previous element \n",
    "#    // in current row and the element just above the\n",
    "#    // previous element\n",
    "#    Bell(i, j) = Bell(i-1, j-1) + Bell(i, j-1)\n",
    "\n",
    "\n",
    "def bellno(n):\n",
    "\n",
    "    bell = [[0 for _ in range(n+1)] for j in range(n+1)]\n",
    "\n",
    "    # first row first column = 1\n",
    "    bell[0][0] = 1\n",
    "\n",
    "    for i in range(1,n+1):\n",
    "\n",
    "        # every row 1st column is the last no in the previous row\n",
    "        bell[i][0] = bell[i-1][i-1]\n",
    "\n",
    "        for j in range(1, i+1):\n",
    "\n",
    "            bell[i][j] = bell[i-1][j-1]+bell[i][j-1]\n",
    "        \n",
    "\n",
    "\n",
    "    return bell[n][0]\n",
    "\n",
    "bellno(3)"
   ]
  },
  {
   "cell_type": "code",
   "execution_count": 17,
   "metadata": {},
   "outputs": [
    {
     "name": "stdout",
     "output_type": "stream",
     "text": [
      "Bell Number 0 is 1\n",
      "Bell Number 1 is 1\n",
      "Bell Number 2 is 2\n",
      "Bell Number 3 is 5\n",
      "Bell Number 4 is 15\n",
      "Bell Number 5 is 52\n"
     ]
    }
   ],
   "source": []
  },
  {
   "cell_type": "code",
   "execution_count": null,
   "metadata": {},
   "outputs": [],
   "source": []
  }
 ],
 "metadata": {
  "kernelspec": {
   "display_name": "Python 3.9.7 ('base')",
   "language": "python",
   "name": "python3"
  },
  "language_info": {
   "codemirror_mode": {
    "name": "ipython",
    "version": 3
   },
   "file_extension": ".py",
   "mimetype": "text/x-python",
   "name": "python",
   "nbconvert_exporter": "python",
   "pygments_lexer": "ipython3",
   "version": "3.9.7"
  },
  "orig_nbformat": 4,
  "vscode": {
   "interpreter": {
    "hash": "ad2bdc8ecc057115af97d19610ffacc2b4e99fae6737bb82f5d7fb13d2f2c186"
   }
  }
 },
 "nbformat": 4,
 "nbformat_minor": 2
}
