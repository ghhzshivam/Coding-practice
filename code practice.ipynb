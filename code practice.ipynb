{
 "cells": [
  {
   "cell_type": "code",
   "execution_count": null,
   "id": "55b5e809",
   "metadata": {},
   "outputs": [],
   "source": [
    "# A valid number can be split up into these components (in order):\n",
    "\n",
    "# A decimal number or an integer.\n",
    "# (Optional) An 'e' or 'E', followed by an integer.\n",
    "# A decimal number can be split up into these components (in order):\n",
    "\n",
    "# (Optional) A sign character (either '+' or '-').\n",
    "# One of the following formats:\n",
    "# One or more digits, followed by a dot '.'.\n",
    "# One or more digits, followed by a dot '.', followed by one or more digits.\n",
    "# A dot '.', followed by one or more digits.\n",
    "# An integer can be split up into these components (in order):\n",
    "\n",
    "# (Optional) A sign character (either '+' or '-').\n",
    "# One or more digits.\n",
    "# For example, all the following are valid numbers: [\"2\", \"0089\", \"-0.1\", \"+3.14\", \"4.\", \"-.9\", \"2e10\", \"-90E3\", \"3e+7\", \"+6e-1\", \"53.5e93\", \"-123.456e789\"], while the following are not valid numbers: [\"abc\", \"1a\", \"1e\", \"e3\", \"99e2.5\", \"--6\", \"-+3\", \"95a54e53\"].\n",
    "\n",
    "# Given a string s, return true if s is a valid number.\n",
    "\n",
    " \n",
    "\n",
    "# Example 1:\n",
    "\n",
    "# Input: s = \"0\"\n",
    "# Output: true\n",
    "# Example 2:\n",
    "\n",
    "# Input: s = \"e\"\n",
    "# Output: false\n",
    "# Example 3:\n",
    "\n",
    "# Input: s = \".\"\n",
    "# Output: false\n",
    "\n",
    "\n",
    "# Algo:\n",
    "1) check wheather if the code will work with initial if not a int or not + or - so return False\n",
    "2) if + in s and - in s and ind(e+1) == - and len(e+2)>= len(s) return True elif + in s and - in s return False\n",
    "3) sign can be 1 or after e if - and ind(-) >1 so after e\n",
    "4) no problem from .\n",
    "5) \n",
    "\n",
    "\n",
    "def valid(a):\n",
    "    s = str(a)\n",
    "\n",
    "    if ord(s[0]) \n",
    "    pass\n",
    "\n",
    "valid(0)\n",
    "\n"
   ]
  },
  {
   "cell_type": "code",
   "execution_count": null,
   "id": "896e341a",
   "metadata": {},
   "outputs": [],
   "source": [
    "# Input: n = 521\n",
    "# Output: 4\n",
    "# right way\n",
    "# Explanation: (+5) + (-2) + (+1) = 4.\n",
    "\n",
    "n = 521\n",
    "out = 0\n",
    "i = 0\n",
    "while n >= 1:\n",
    "    if i%2 == 0:\n",
    "        out += \n",
    "\n",
    "\n",
    "    i += 1\n",
    "    "
   ]
  },
  {
   "cell_type": "code",
   "execution_count": null,
   "id": "0f3ef866",
   "metadata": {},
   "outputs": [],
   "source": [
    "521%10"
   ]
  },
  {
   "cell_type": "code",
   "execution_count": null,
   "id": "38fa45c1",
   "metadata": {},
   "outputs": [],
   "source": [
    "length = 1000\n",
    "width = 35\n",
    "height = 700\n",
    "mass = 300\n",
    "\n",
    "\n",
    "vol = length*width*height\n",
    "a = None\n",
    "b = None\n",
    "\n",
    "if vol>= 10^9 or length >= 10^4 or width >= 10^4 or height >= 10^4:\n",
    "    b = 'Bulky'\n",
    "\n",
    "if m>=100:\n",
    "    a = \"heavy\"\n",
    "\n",
    "if b == 'Bulky' and a == 'Heavy':\n",
    "    return('Both')\n",
    "elif b != \"Bulky\" and a != 'Heavy':\n",
    "    return('Neither')\n",
    "elif b== 'Bulky':\n",
    "    return('Bulky')\n",
    "else:\n",
    "    return('Heavy')\n"
   ]
  },
  {
   "cell_type": "code",
   "execution_count": 27,
   "id": "52f05a15",
   "metadata": {},
   "outputs": [
    {
     "name": "stdout",
     "output_type": "stream",
     "text": [
      "True\n"
     ]
    }
   ],
   "source": [
    "# 202. Happy Number\n",
    "# Starting with any positive integer, replace the number by the sum of the squares of its digits.\n",
    "# Repeat the process until the number equals 1 (where it will stay), or it loops endlessly in a cycle which does not include 1.\n",
    "# Input: n = 19\n",
    "# Output: true\n",
    "# Explanation:\n",
    "# 12 + 92 = 82\n",
    "# 82 + 22 = 68\n",
    "# 62 + 82 = 100\n",
    "# 12 + 02 + 02 = 1\n",
    "\n",
    "n = 19\n",
    "\n",
    "def n_val(a):\n",
    "    co = 0\n",
    "    while a>=1:\n",
    "        x = a%10\n",
    "        a = int(a/10)\n",
    "        \n",
    "        co = co+x*x\n",
    "    return co\n",
    "\n",
    "def happy(n):\n",
    "    if n== 1:\n",
    "        return True\n",
    "    while n != 1:\n",
    "        if n<9:\n",
    "            return False\n",
    "        else:\n",
    "            n = n_val(n)\n",
    "    return True\n",
    "\n",
    "return(happy(68))"
   ]
  },
  {
   "cell_type": "code",
   "execution_count": null,
   "id": "9267588c",
   "metadata": {},
   "outputs": [],
   "source": []
  },
  {
   "cell_type": "code",
   "execution_count": null,
   "id": "29e560cb",
   "metadata": {},
   "outputs": [],
   "source": []
  },
  {
   "cell_type": "code",
   "execution_count": 30,
   "id": "e51c8de9",
   "metadata": {},
   "outputs": [
    {
     "data": {
      "text/plain": [
       "4"
      ]
     },
     "execution_count": 30,
     "metadata": {},
     "output_type": "execute_result"
    }
   ],
   "source": [
    "# 485. Max Consecutive Ones\n",
    "# Input: nums = [1,1,0,1,1,1]\n",
    "# Output: 3\n",
    "nums = [1,1,0,1,1,1,1]\n",
    "def max_one(nums):\n",
    "    l = 0\n",
    "    co = 0\n",
    "    for i in range(len(nums)):\n",
    "\n",
    "        if nums[i] == 1:\n",
    "            co +=1\n",
    "            if co>l:\n",
    "                l = co\n",
    "        else:\n",
    "            co = 0\n",
    "    return l\n",
    "max_one(nums)\n",
    "            "
   ]
  },
  {
   "cell_type": "code",
   "execution_count": 43,
   "id": "94138153",
   "metadata": {},
   "outputs": [
    {
     "data": {
      "text/plain": [
       "5"
      ]
     },
     "execution_count": 43,
     "metadata": {},
     "output_type": "execute_result"
    }
   ],
   "source": [
    "# 594. Longest Harmonious Subsequence\n",
    "# We define a harmonious array as an array where the difference between its maximum value and its minimum value is exactly 1.\n",
    "\n",
    "# Given an integer array nums, return the length of its longest harmonious subsequence among all its possible subsequences.\n",
    "\n",
    "# Input: nums = [1,3,2,2,5,2,3,7]\n",
    "# Output: 5\n",
    "# Explanation: The longest harmonious subsequence is [3,2,2,2,3].\n",
    "\n",
    "\n",
    "from collections import Counter\n",
    "\n",
    "nums = [1,3,2,2,5,2,3,7]\n",
    "count = Counter(nums)\n",
    "ans = 0\n",
    "for k,val in count.items():\n",
    "    if k+1 in count:\n",
    "        ans = max(ans, val+count[k+1])\n",
    "ans         \n",
    "# nums = [1,3,2,2,5,2,3,7]\n",
    "# d = {}\n",
    "\n",
    "# for i in nums:\n",
    "#     if i not in d.keys():\n",
    "#         d[i] = 1\n",
    "#     else:\n",
    "#         d[i] += 1\n",
    "        \n",
    "# a = 0\n",
    "# for k, val in d.items():\n",
    "#     if k+1 in d.keys():\n",
    "#         a = max(0, val+ d[k+1])    \n",
    "# a    \n",
    "        \n",
    "    "
   ]
  },
  {
   "cell_type": "code",
   "execution_count": 18,
   "id": "34fc7417",
   "metadata": {},
   "outputs": [
    {
     "name": "stdout",
     "output_type": "stream",
     "text": [
      "0\n"
     ]
    },
    {
     "data": {
      "text/plain": [
       "[]"
      ]
     },
     "execution_count": 18,
     "metadata": {},
     "output_type": "execute_result"
    }
   ],
   "source": [
    "# 2. Add Two Numbers\n",
    "# Input: l1 = [2,4,3], l2 = [5,6,4]\n",
    "# Output: [7,0,8]\n",
    "# Explanation: 342 + 465 = 807.\n",
    "# l1 = [9,9,9,9,9,9,9]\n",
    "# l2 = [9,9,9,9]\n",
    "l1 = [0]\n",
    "l2 = [0]\n",
    "\n",
    "if l1[0] == 0 and l2[0] ==0 and len(l1) == 1 and len(l2) == 1:\n",
    "    return('0')\n",
    "def no(l):\n",
    "    \"\"\"\n",
    "    will output no\n",
    "    \"\"\"\n",
    "    n = len(l)\n",
    "    i = 0\n",
    "    number = 0\n",
    "    for i in l:\n",
    "        number = number*10 +i\n",
    "    return number\n",
    "res = no(l1[::-1])+no(l2[::-1])\n",
    "out_l = []\n",
    "while res>0:\n",
    "    \n",
    "    out_l.append(res%10)\n",
    "\n",
    "    res  = int(res/10)\n",
    "\n",
    "out_l\n"
   ]
  },
  {
   "cell_type": "code",
   "execution_count": 49,
   "id": "be9d9f5f",
   "metadata": {},
   "outputs": [
    {
     "data": {
      "text/plain": [
       "1994"
      ]
     },
     "execution_count": 49,
     "metadata": {},
     "output_type": "execute_result"
    }
   ],
   "source": [
    "# 13. Roman to Integer\n",
    "# I             1\n",
    "# V             5\n",
    "# X             10\n",
    "# L             50\n",
    "# C             100\n",
    "# D             500\n",
    "# M             1000\\\n",
    "\n",
    "def romo(s):\n",
    "    n = 0\n",
    "    i = 0\n",
    "    while i < len(s):\n",
    "        if s[i]+s[i+1] == 'IV':\n",
    "            n+= 4\n",
    "            i+= 2\n",
    "        elif s[i]+s[i+1] == 'IX':\n",
    "            n+= 9\n",
    "            i+= 2\n",
    "        elif s[i]+s[i+1] == 'XL':\n",
    "            n+= 40\n",
    "            i+= 2\n",
    "        elif s[i]+s[i+1] == 'XC':\n",
    "            n+= 90\n",
    "            i+= 2\n",
    "        elif s[i]+s[i+1] == 'CD':\n",
    "            n+= 400\n",
    "            i+= 2\n",
    "        elif s[i]+s[i+1] == 'CM':\n",
    "            n+= 900\n",
    "            i+= 2\n",
    "        else:\n",
    "            if s[i] == 'I':\n",
    "                n += 1\n",
    "            elif s[i] == 'V':\n",
    "                n += 5\n",
    "            elif s[i] == 'X':\n",
    "                n += 10\n",
    "            elif s[i] == 'L':\n",
    "                n += 50\n",
    "            elif s[i] == 'C':\n",
    "                n += 100\n",
    "            elif s[i] == 'D':\n",
    "                n += 500\n",
    "            elif s[i] == 'M':\n",
    "                n += 1000\n",
    "            i+=1\n",
    "    return n\n",
    "romo(\"MCMXCIV\")\n",
    "\n",
    "\n",
    "a = 'MCMXCIV'\n",
    "def rome(s):\n",
    "    res = 0\n",
    "    d = {'I':1, \"V\": 5, 'X': 10, 'L': 50, 'C': 100, \"D\": 500, 'M': 1000}\n",
    "    for i in range(len(s)-1):\n",
    "        if d[s[i]] <d[s[i+1]]:\n",
    "            res -= d[s[i]]\n",
    "        else:\n",
    "            res += d[s[i]]\n",
    "\n",
    "    res += d[s[-1]]\n",
    "    return res\n",
    "rome('MCMXCIV')\n"
   ]
  },
  {
   "cell_type": "code",
   "execution_count": 48,
   "id": "873684b6",
   "metadata": {},
   "outputs": [
    {
     "data": {
      "text/plain": [
       "[[1], [1, 1], [1, 2, 1], [1, 3, 3, 1], [1, 4, 6, 4, 1]]"
      ]
     },
     "execution_count": 48,
     "metadata": {},
     "output_type": "execute_result"
    }
   ],
   "source": [
    "# 118. Pascal's Triangle\n",
    "# Input: numRows = 5\n",
    "# Output: [[1],[1,1],[1,2,1],[1,3,3,1],[1,4,6,4,1]]\n",
    "n = 5\n",
    "def pas(n):\n",
    "    l = [[1], [1,1]]\n",
    "    if n==1:\n",
    "        return([[1]])\n",
    "    if n == 2:\n",
    "        return(l)\n",
    "    i = 1\n",
    "    while i<n-1:\n",
    "        a = l[i]\n",
    "        res = [1]\n",
    "        for j in range(len(a)-1):\n",
    "            res.append(a[j]+a[j+1])\n",
    "        res.append(1)\n",
    "        l.append(res)\n",
    "        i+= 1\n",
    "\n",
    "    return l\n",
    "pas(n)\n",
    "\n"
   ]
  },
  {
   "cell_type": "code",
   "execution_count": 61,
   "id": "9131ccff",
   "metadata": {},
   "outputs": [
    {
     "data": {
      "text/plain": [
       "[2, 4, 5, 3, 54]"
      ]
     },
     "execution_count": 61,
     "metadata": {},
     "output_type": "execute_result"
    }
   ],
   "source": [
    "l = [3,54,2,4,5]\n",
    "t = 2\n",
    "def q33(l, t) -> list:\n",
    "    if t not in l:\n",
    "        return(-1)\n",
    "    pos = l.index(t)\n",
    "    a = []\n",
    "    for i in range(pos, len(l)):\n",
    "        a.append(l[i])\n",
    "    for i in range(0, pos):\n",
    "        a.append(l[i])\n",
    "    return(a)\n",
    "\n",
    "q33(l,t)\n",
    "\n"
   ]
  },
  {
   "cell_type": "code",
   "execution_count": 55,
   "id": "21a427bd",
   "metadata": {},
   "outputs": [],
   "source": [
    "# help(list)"
   ]
  },
  {
   "cell_type": "code",
   "execution_count": 15,
   "id": "bae4cc70",
   "metadata": {},
   "outputs": [
    {
     "name": "stdout",
     "output_type": "stream",
     "text": [
      "3322251\n",
      "[[2, 3], [3, 2], [1, 5], [1, 1]]\n",
      "23321511\n"
     ]
    }
   ],
   "source": [
    "# 38. Count and Say\n",
    "\n",
    "# Example 1:\n",
    "\n",
    "# Input: n = 1\n",
    "# Output: \"1\"\n",
    "# Explanation: This is the base case.\n",
    "# Example 2:\n",
    "\n",
    "# Input: n = 4\n",
    "# Output: \"1211\"\n",
    "# Explanation:\n",
    "# countAndSay(1) = \"1\"\n",
    "# countAndSay(2) = say \"1\" = one 1 = \"11\"\n",
    "# countAndSay(3) = say \"11\" = two 1's = \"21\"\n",
    "# countAndSay(4) = say \"21\" = one 2 + one 1 = \"12\" + \"11\" = \"1211\"\n",
    "\n",
    "\n",
    "# wrong solution\n",
    "n = 3322251\n",
    "def count_say(n):\n",
    "    if n<10:\n",
    "        return n\n",
    "    a = str(n)\n",
    "    \n",
    "    x = [a[0]]\n",
    "\n",
    "    count = 1\n",
    "    for i in range(1,len(a)):\n",
    "        if  a[i]== a[i-1]:\n",
    "            count+= 1\n",
    "            x[-1] = [count, ord(a[i])-48]\n",
    "        else:\n",
    "            count = 1\n",
    "            x.append([count, ord(a[i])-48])\n",
    "\n",
    "    nn = 0\n",
    "    for i in x:\n",
    "        for j in i:\n",
    "            nn = (nn*10)+j\n",
    "    return nn\n",
    "\n",
    "\n",
    "count_say(n)\n",
    "count_say(1)"
   ]
  },
  {
   "cell_type": "code",
   "execution_count": 3,
   "id": "a5c50a29",
   "metadata": {},
   "outputs": [
    {
     "name": "stdout",
     "output_type": "stream",
     "text": [
      "2\n"
     ]
    }
   ],
   "source": [
    "n = [1,3,4,2,2]\n",
    "\n",
    "# slow\n",
    "# a = []\n",
    "# for i in n:\n",
    "#     if i in a:\n",
    "#         print('dup', i)\n",
    "#     else:\n",
    "#         a.append(i)\n",
    "nums  = n\n",
    "for k in nums:\n",
    "    a = abs(k)\n",
    "    if nums[a-1] < 0: \n",
    "        print(a) \n",
    "    else:\n",
    "        nums[a-1]*=-1\n",
    "\n"
   ]
  },
  {
   "cell_type": "code",
   "execution_count": 18,
   "id": "1a6d8d2a",
   "metadata": {},
   "outputs": [
    {
     "name": "stdout",
     "output_type": "stream",
     "text": [
      "[[0, 1, 0], [0, 0, 1], [1, 1, 1], [0, 0, 0]]\n",
      "[[0, 0, 0], [0, 0, 1], [0, 1, 1], [0, 1, 0]]\n"
     ]
    }
   ],
   "source": [
    "# 289. Game of Life\n",
    "\n",
    "\n",
    "b = [[0,1,0],[0,0,1],[1,1,1],[0,0,0]]\n",
    "\n",
    "        #  1 -> 0  : 2\n",
    "        #  1 -> 1  : 1\n",
    "        #  1 -> 0  : 3\n",
    "        #  0 -> 1  : 4\n",
    "\n",
    "\n",
    "# Output: [[0,0,0],[1,0,1],[0,1,1],[0,1,0]]\n",
    "r  = len(b)\n",
    "c = len(b[0])\n",
    "\n",
    "n = [[0 for i in range(c)]for i in range(r)]\n",
    "\n",
    "d = [(1,0), (-1,0), (0,1), (0,-1), (1,1), (-1,1), (1,-1), (-1,-1)]\n",
    "dummy = []\n",
    "\n",
    "for i in b:\n",
    "    dummy.append(i[:])\n",
    "\n",
    "print(dummy)\n",
    "\n",
    "for i in range(r):\n",
    "    for j in range(c):\n",
    "        live = 0\n",
    "        dead = 0\n",
    "\n",
    "        for x,y in d:\n",
    "            a = x+i\n",
    "            b = y+j\n",
    "\n",
    "            if r>a>=1 and c>b>=0:\n",
    "                if dummy[a][b] ==1:\n",
    "                    live+= 1\n",
    "                else:\n",
    "                    dead +=1\n",
    "                     \n",
    "        if dummy[i][j] ==1:\n",
    "            if live<2:\n",
    "                n[i][j] = 0\n",
    "            elif 3>=live>=2:\n",
    "                n[i][j] = 1\n",
    "            elif live>3:\n",
    "                n[i][j] = 0\n",
    "\n",
    "        else:\n",
    "            if live ==3:\n",
    "                n[i][j] = 1\n",
    "\n",
    "print(n)"
   ]
  },
  {
   "cell_type": "code",
   "execution_count": 4,
   "id": "49501efb",
   "metadata": {},
   "outputs": [
    {
     "name": "stdout",
     "output_type": "stream",
     "text": [
      "True\n"
     ]
    }
   ],
   "source": [
    "mat = [[1,4,7,11,15],[2,5,8,12,19],[3,6,9,16,22],[10,13,14,17,24],[18,21,23,26,30]]\n",
    "t = 5\n",
    "# Output: true\n",
    "for i in range(len(mat)):\n",
    "    if t in mat[i]:\n",
    "        print(True)\n",
    "\n"
   ]
  },
  {
   "cell_type": "code",
   "execution_count": 7,
   "id": "d89abd3d",
   "metadata": {},
   "outputs": [],
   "source": [
    "# 200 No of island\n",
    "\n",
    "# Input: \n",
    "grid = [\n",
    "  [\"1\",\"1\",\"1\",\"1\",\"0\"],\n",
    "  [\"1\",\"1\",\"0\",\"1\",\"0\"],\n",
    "  [\"1\",\"1\",\"0\",\"0\",\"0\"],\n",
    "  [\"0\",\"0\",\"0\",\"0\",\"0\"]\n",
    "]\n",
    "# Output: 1\n",
    "# Example 2:\n",
    "\n",
    "# Input: grid = [\n",
    "#   [\"1\",\"1\",\"0\",\"0\",\"0\"],\n",
    "#   [\"1\",\"1\",\"0\",\"0\",\"0\"],\n",
    "#   [\"0\",\"0\",\"1\",\"0\",\"0\"],\n",
    "#   [\"0\",\"0\",\"0\",\"1\",\"1\"]\n",
    "# ]\n",
    "# Output: 3\n",
    "\n",
    "\n",
    "r = len(grid)\n",
    "c = len(grid[0])\n",
    "\n",
    "m = [[0 for i in range(c)] for j in range(r)]\n"
   ]
  },
  {
   "cell_type": "code",
   "execution_count": 11,
   "id": "3e3cbfef",
   "metadata": {},
   "outputs": [
    {
     "name": "stdout",
     "output_type": "stream",
     "text": [
      "[[0, 0, 0, 0, 0, 0, 0, 0, 0, 0, 0, 0, 0], [0, 0, 0, 0, 0, 0, 0, 0, 0, 0, 0, 0, 0], [0, 0, 0, 0, 0, 0, 0, 0, 0, 0, 0, 0, 0]]\n"
     ]
    }
   ],
   "source": [
    "mat = [\n",
    "    [0,0,0,1,0,0,0,0,0,0,0,0,0],\n",
    "    [0,0,1,0,1,1,0,0,0,0,0,0,0],\n",
    "    [0,0,1,1,1,0,0,0,0,0,0,0,0]\n",
    "]\n",
    "\n",
    "r = len(mat)\n",
    "c = len(mat[0])\n",
    "m = [[0 for i in range(len(mat[0]))] for j in range(len(mat))]\n",
    "print(m)"
   ]
  },
  {
   "cell_type": "code",
   "execution_count": 3,
   "id": "d81d4bf6",
   "metadata": {},
   "outputs": [],
   "source": [
    "# d = [(1,1), (1,-1), (-1,1), (-1,-1), (1,0), (0,1), (-1, 0), (0,-1)]\n",
    "\n",
    "# for i in range(r):\n",
    "#     for j in range(c):\n",
    "        \n",
    "#         for x,y in d:\n",
    "\n",
    "#             x = i+x\n",
    "#             y = j+y\n",
    "\n",
    "\n"
   ]
  },
  {
   "cell_type": "code",
   "execution_count": 6,
   "id": "16038cb3",
   "metadata": {},
   "outputs": [
    {
     "data": {
      "text/plain": [
       "2500.0"
      ]
     },
     "execution_count": 6,
     "metadata": {},
     "output_type": "execute_result"
    }
   ],
   "source": [
    "salary = [4000,3000,1000,2000]\n",
    "# Output: 2500.00000\n",
    "\n",
    "(sum(salary)-min(salary) -max(salary))/(len(salary)-2)"
   ]
  },
  {
   "cell_type": "code",
   "execution_count": 5,
   "id": "e12056a8",
   "metadata": {},
   "outputs": [
    {
     "data": {
      "text/plain": [
       "2500.0"
      ]
     },
     "execution_count": 5,
     "metadata": {},
     "output_type": "execute_result"
    }
   ],
   "source": [
    "# valid pan\n",
    "pan = ['BAJPC4350M', 'DAJPC4150P','XGZFE7225A', 'CTUGE1616I', 'PEVFV4506Y', 'UWPCL6780T', 'LQDTD5444T', 'DDWCH0856B', 'YUGFJ2046V', 'NLXBC1905E', 'GFQJR7008X' ]\n",
    "\n",
    "for i in pan:\n",
    "    if len(i)==10 and i[:5].isupper() and i[5:9].isdigit() and i[-1].isupper():\n",
    "        print(i, 'True') \n",
    "    else:\n",
    "        print(i, 'False')"
   ]
  },
  {
   "cell_type": "code",
   "execution_count": 4,
   "id": "6cc7e30e",
   "metadata": {},
   "outputs": [],
   "source": [
    "# decorator\n",
    "\n",
    "def decorator_new(fun):\n",
    "    def wrapper(*args, **kwargs):\n",
    "        print('*'*10)\n",
    "        fun(*args, **kwargs)\n",
    "        print('*'*10)\n",
    "\n",
    "@decorator_new\n",
    "def print_function():\n",
    "    print('hello')\n",
    "\n",
    "print_function()"
   ]
  },
  {
   "cell_type": "code",
   "execution_count": 2,
   "id": "6fa34fef",
   "metadata": {},
   "outputs": [
    {
     "data": {
      "text/plain": [
       "['0', 'A', 'B', 'B']"
      ]
     },
     "execution_count": 2,
     "metadata": {},
     "output_type": "execute_result"
    }
   ],
   "source": [
    "secret = \"1123\"\n",
    "guess = \"0111\"\n",
    "\n",
    "def guessit(secret, guess):\n",
    "    l = []\n",
    "    \n",
    "    if len(secret)!= len(guess):\n",
    "        return Fasle\n",
    "    \n",
    "    for i in range(len(secret)):\n",
    "            if guess[i] == secret[i]:\n",
    "                l.append('A')\n",
    "            elif guess[i] in secret:\n",
    "                l.append('B')\n",
    "            else:\n",
    "                l.append(guess[i])\n",
    "    return l\n",
    "\n",
    "\n",
    "guessit(secret, guess)"
   ]
  },
  {
   "cell_type": "code",
   "execution_count": 5,
   "id": "0708aa8c",
   "metadata": {},
   "outputs": [
    {
     "data": {
      "text/plain": [
       "[5, 4, 3, 2, 1]"
      ]
     },
     "execution_count": 5,
     "metadata": {},
     "output_type": "execute_result"
    }
   ],
   "source": [
    "l = [1,2,3,4,5,6]\n",
    "\n",
    "sorted(l, key = lambda x : l[:-x])"
   ]
  },
  {
   "cell_type": "code",
   "execution_count": 1,
   "id": "68b16f40",
   "metadata": {},
   "outputs": [
    {
     "data": {
      "text/plain": [
       "28"
      ]
     },
     "execution_count": 1,
     "metadata": {},
     "output_type": "execute_result"
    }
   ],
   "source": [
    "l = [1,2,3,4,5,6,7,8,9]\n",
    "\n",
    "sum(sorted(l, key = lambda x : l[:x]))"
   ]
  },
  {
   "cell_type": "code",
   "execution_count": 1,
   "id": "9d630a33",
   "metadata": {},
   "outputs": [],
   "source": [
    "s = 'start'"
   ]
  },
  {
   "cell_type": "code",
   "execution_count": 3,
   "id": "596c438c",
   "metadata": {},
   "outputs": [
    {
     "data": {
      "text/plain": [
       "'512301'"
      ]
     },
     "execution_count": 3,
     "metadata": {},
     "output_type": "execute_result"
    }
   ],
   "source": [
    "num = \"51230100\"\n",
    "c = 0\n",
    "for i in num[::-1]:\n",
    "                if i =='0':\n",
    "                    c += 1 \n",
    "                else: \n",
    "                    break\n",
    "                \n",
    "num[:len(num)-c]"
   ]
  },
  {
   "cell_type": "code",
   "execution_count": 9,
   "id": "5afade7c",
   "metadata": {},
   "outputs": [
    {
     "name": "stdout",
     "output_type": "stream",
     "text": [
      "[1, 2, 3, 4, 6, 12]\n",
      "-1\n"
     ]
    }
   ],
   "source": [
    "n = 12\n",
    "k = 19\n",
    "\n",
    "l = []\n",
    "for i in  range(1,n+1):\n",
    "    if n%i ==0:\n",
    "        l.append(i)\n",
    "print(l)\n",
    "try:\n",
    "    l[k-1]\n",
    "except:\n",
    "    print(-1)"
   ]
  },
  {
   "cell_type": "code",
   "execution_count": 15,
   "id": "08ebf261",
   "metadata": {},
   "outputs": [
    {
     "data": {
      "text/plain": [
       "True"
      ]
     },
     "execution_count": 15,
     "metadata": {},
     "output_type": "execute_result"
    }
   ],
   "source": [
    "# Same sequence sholud be in the patteren and string \n",
    "\n",
    "p = \"abba\"\n",
    "s = \"dog cat cat dog\"\n",
    "# Output: true\n",
    "\n",
    "# p = 'aabb'\n",
    "# s = 'cat cat cat cat'\n",
    "# Output False\n",
    "\n",
    "def check(p,s):\n",
    "    l = s.split(' ')\n",
    "    if (len(l) != len(p) or len(set(l)) != len(set(p))):\n",
    "        return False\n",
    "    \n",
    "    for i in range(len(p)):\n",
    "        for j in range(i+1, len(p)):\n",
    "            if p[i] == p[j]:\n",
    "                if l[i] != l[j]:\n",
    "                    return False \n",
    "    return True\n",
    "\n",
    "\n",
    "\n",
    "check(p,s)"
   ]
  },
  {
   "cell_type": "code",
   "execution_count": null,
   "id": "718bc3d1",
   "metadata": {},
   "outputs": [],
   "source": [
    "\n",
    "def count_word_frequency(words):\n",
    "    # TODO\n",
    "    d = {}\n",
    "    for i in words:\n",
    "        if i in d.keys():\n",
    "            d[i] += 1\n",
    "        else:\n",
    "            d[i] = 1\n",
    "    return d"
   ]
  },
  {
   "cell_type": "code",
   "execution_count": null,
   "id": "98a1ef5a",
   "metadata": {},
   "outputs": [],
   "source": []
  },
  {
   "cell_type": "code",
   "execution_count": null,
   "id": "ea8fa89b",
   "metadata": {},
   "outputs": [],
   "source": []
  }
 ],
 "metadata": {
  "kernelspec": {
   "display_name": "Python 3 (ipykernel)",
   "language": "python",
   "name": "python3"
  },
  "language_info": {
   "codemirror_mode": {
    "name": "ipython",
    "version": 3
   },
   "file_extension": ".py",
   "mimetype": "text/x-python",
   "name": "python",
   "nbconvert_exporter": "python",
   "pygments_lexer": "ipython3",
   "version": "3.9.7"
  },
  "vscode": {
   "interpreter": {
    "hash": "9c643b4ba4598022467ee7006ac954fc6353e7a622e6156b0965930cb0903daa"
   }
  }
 },
 "nbformat": 4,
 "nbformat_minor": 5
}
