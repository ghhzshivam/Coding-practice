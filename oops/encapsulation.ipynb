{
 "cells": [
  {
   "cell_type": "code",
   "execution_count": 1,
   "metadata": {},
   "outputs": [],
   "source": [
    "# Encapsulation is the mechanism of hidding the data variable"
   ]
  },
  {
   "cell_type": "code",
   "execution_count": 30,
   "metadata": {},
   "outputs": [],
   "source": [
    "class SoftwareEngineer:\n",
    "\n",
    "    def __init__(self, name, age):\n",
    "        self.name = name\n",
    "        self.age = age\n",
    "\n",
    "        # for private attributes and these cannot be accessed from outside\n",
    "        # _x is protected attribute and can be accessed via se1._x\n",
    "        #__x is a private attribute and cannot be acessed using code\n",
    "        self._salary = 2500\n",
    "        self.__performance = 'Poor'\n",
    "\n",
    "    def get_salary(self):\n",
    "        return self._salary\n",
    "    \n",
    "    # abstraction\n",
    "    def set_salary(self, new):\n",
    "        #check, enfore constraints\n",
    "        self._salary = new\n",
    "\n",
    "    def _calculate_salary(self, base_value):\n",
    "        if self.__performance == 'Poor':\n",
    "            return base_value*0.9\n",
    "        else:\n",
    "            return base_value*1.5\n",
    "\n",
    "se = SoftwareEngineer('Max', 25)"
   ]
  },
  {
   "cell_type": "code",
   "execution_count": 31,
   "metadata": {},
   "outputs": [
    {
     "ename": "AttributeError",
     "evalue": "'SoftwareEngineer' object has no attribute 'salary'",
     "output_type": "error",
     "traceback": [
      "\u001b[1;31m---------------------------------------------------------------------------\u001b[0m",
      "\u001b[1;31mAttributeError\u001b[0m                            Traceback (most recent call last)",
      "\u001b[1;32m~\\AppData\\Local\\Temp\\ipykernel_12464\\960470013.py\u001b[0m in \u001b[0;36m<module>\u001b[1;34m\u001b[0m\n\u001b[1;32m----> 1\u001b[1;33m \u001b[0mse\u001b[0m\u001b[1;33m.\u001b[0m\u001b[0msalary\u001b[0m\u001b[1;33m\u001b[0m\u001b[1;33m\u001b[0m\u001b[0m\n\u001b[0m",
      "\u001b[1;31mAttributeError\u001b[0m: 'SoftwareEngineer' object has no attribute 'salary'"
     ]
    }
   ],
   "source": [
    "se.salary"
   ]
  },
  {
   "cell_type": "code",
   "execution_count": 32,
   "metadata": {},
   "outputs": [
    {
     "name": "stdout",
     "output_type": "stream",
     "text": [
      "25 Max 2500\n"
     ]
    },
    {
     "ename": "AttributeError",
     "evalue": "'SoftwareEngineer' object has no attribute '__performance'",
     "output_type": "error",
     "traceback": [
      "\u001b[1;31m---------------------------------------------------------------------------\u001b[0m",
      "\u001b[1;31mAttributeError\u001b[0m                            Traceback (most recent call last)",
      "\u001b[1;32m~\\AppData\\Local\\Temp\\ipykernel_12464\\1151638809.py\u001b[0m in \u001b[0;36m<module>\u001b[1;34m\u001b[0m\n\u001b[0;32m      1\u001b[0m \u001b[0mprint\u001b[0m\u001b[1;33m(\u001b[0m\u001b[0mse\u001b[0m\u001b[1;33m.\u001b[0m\u001b[0mage\u001b[0m\u001b[1;33m,\u001b[0m \u001b[0mse\u001b[0m\u001b[1;33m.\u001b[0m\u001b[0mname\u001b[0m\u001b[1;33m,\u001b[0m \u001b[0mse\u001b[0m\u001b[1;33m.\u001b[0m\u001b[0m_salary\u001b[0m\u001b[1;33m)\u001b[0m\u001b[1;33m\u001b[0m\u001b[1;33m\u001b[0m\u001b[0m\n\u001b[1;32m----> 2\u001b[1;33m \u001b[0mprint\u001b[0m\u001b[1;33m(\u001b[0m\u001b[0mse\u001b[0m\u001b[1;33m.\u001b[0m\u001b[0mage\u001b[0m\u001b[1;33m,\u001b[0m \u001b[0mse\u001b[0m\u001b[1;33m.\u001b[0m\u001b[0mname\u001b[0m\u001b[1;33m,\u001b[0m \u001b[0mse\u001b[0m\u001b[1;33m.\u001b[0m\u001b[0m_salary\u001b[0m\u001b[1;33m,\u001b[0m \u001b[0mse\u001b[0m\u001b[1;33m.\u001b[0m\u001b[0m__performance\u001b[0m\u001b[1;33m)\u001b[0m\u001b[1;33m\u001b[0m\u001b[1;33m\u001b[0m\u001b[0m\n\u001b[0m",
      "\u001b[1;31mAttributeError\u001b[0m: 'SoftwareEngineer' object has no attribute '__performance'"
     ]
    }
   ],
   "source": [
    "print(se.age, se.name, se._salary)\n",
    "print(se.age, se.name, se._salary, se.__performance)"
   ]
  },
  {
   "cell_type": "code",
   "execution_count": 33,
   "metadata": {},
   "outputs": [
    {
     "data": {
      "text/plain": [
       "4000"
      ]
     },
     "execution_count": 33,
     "metadata": {},
     "output_type": "execute_result"
    }
   ],
   "source": [
    "se.set_salary(4000)\n",
    "se.get_salary()"
   ]
  },
  {
   "cell_type": "code",
   "execution_count": 34,
   "metadata": {},
   "outputs": [
    {
     "name": "stdout",
     "output_type": "stream",
     "text": [
      "5400.0\n"
     ]
    }
   ],
   "source": [
    "print(se._calculate_salary(6000))"
   ]
  },
  {
   "cell_type": "code",
   "execution_count": null,
   "metadata": {},
   "outputs": [],
   "source": [
    "# Abstraction: -> natural extenstion of encapsulation\n",
    "# each obj should expose a high lvl mechanism for using it. it should only reveal the data \n",
    "# set_salary is abstraction"
   ]
  },
  {
   "cell_type": "code",
   "execution_count": null,
   "metadata": {},
   "outputs": [],
   "source": []
  },
  {
   "cell_type": "code",
   "execution_count": 51,
   "metadata": {},
   "outputs": [],
   "source": [
    "#properties\n",
    "\n",
    "\n",
    "class SoftwareEngineer:\n",
    "\n",
    "    def __init__(self):\n",
    "        self._salary = 2500\n",
    "\n",
    "    #getter\n",
    "    @property\n",
    "    def salary(self):\n",
    "        return self._salary\n",
    "    \n",
    "    #setter\n",
    "    @salary.setter\n",
    "    def salary(self, new):\n",
    "        #check, enfore constraints\n",
    "        self._salary = new\n",
    "\n",
    "    @salary.deleter\n",
    "    def salary(self):\n",
    "        del self._salary\n",
    "\n",
    "se = SoftwareEngineer()"
   ]
  },
  {
   "cell_type": "code",
   "execution_count": 54,
   "metadata": {},
   "outputs": [
    {
     "name": "stdout",
     "output_type": "stream",
     "text": [
      "6000\n",
      "6000\n"
     ]
    }
   ],
   "source": [
    "se.salary = 6000\n",
    "print(se.salary)\n",
    "# del se.salary\n",
    "print(se.salary)"
   ]
  },
  {
   "cell_type": "code",
   "execution_count": null,
   "metadata": {},
   "outputs": [],
   "source": []
  },
  {
   "cell_type": "code",
   "execution_count": null,
   "metadata": {},
   "outputs": [],
   "source": []
  }
 ],
 "metadata": {
  "kernelspec": {
   "display_name": "base",
   "language": "python",
   "name": "python3"
  },
  "language_info": {
   "codemirror_mode": {
    "name": "ipython",
    "version": 3
   },
   "file_extension": ".py",
   "mimetype": "text/x-python",
   "name": "python",
   "nbconvert_exporter": "python",
   "pygments_lexer": "ipython3",
   "version": "3.9.13"
  },
  "orig_nbformat": 4,
  "vscode": {
   "interpreter": {
    "hash": "3844a49c18a74871cca5193e45c5e4b46b25b0886fff53449ea495a2f93c944d"
   }
  }
 },
 "nbformat": 4,
 "nbformat_minor": 2
}
