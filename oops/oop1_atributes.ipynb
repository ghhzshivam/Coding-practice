{
 "cells": [
  {
   "cell_type": "code",
   "execution_count": null,
   "metadata": {},
   "outputs": [],
   "source": [
    "se1 = ['se', 'rohit', 50, 'junior', 5000]\n",
    "se2 = ['se', 'meena', 23 ]"
   ]
  },
  {
   "cell_type": "code",
   "execution_count": null,
   "metadata": {},
   "outputs": [
    {
     "data": {
      "text/plain": [
       "['se', 'rohit', 50, 'junior', 5000]"
      ]
     },
     "execution_count": 2,
     "metadata": {},
     "output_type": "execute_result"
    }
   ],
   "source": [
    "se1"
   ]
  },
  {
   "cell_type": "code",
   "execution_count": 47,
   "metadata": {},
   "outputs": [],
   "source": [
    "# Class is blueprint\n",
    "#instance attributes -  def __init__\n",
    "\n",
    "class SoftwareEngineer:\n",
    "    # class attribute\n",
    "    dept = 'IT'\n",
    "\n",
    "    def __init__(self, name, age, sal, lvl):\n",
    "        # instance attributes\n",
    "        #self defines a instance attributes so no need for seld.dept as tey are not comming form calling\n",
    "        self.name = name\n",
    "        self.age = age\n",
    "        self.sal = sal\n",
    "        self.lvl = lvl\n",
    "    \n",
    "    def psal(self):\n",
    "        print(self.sal)\n",
    "    \n",
    "    # instance method\n",
    "    def code(self):\n",
    "        print(f'{self.name} is codding...')\n",
    "\n",
    "    def codelan(self, lan):\n",
    "        print(f'{self.name} is writing a code in {lan}')\n",
    "\n",
    "    # we can also return the ans\n",
    "\n",
    "    # Under method\n",
    "    def __str__(self):\n",
    "        info = f\"name = {self.name}, lvl = {self.lvl}, age = {self.age} \"\n",
    "        return info\n",
    "\n",
    "    # checking the equal (if name and age same so return true)\n",
    "    def __eq__(self, other):\n",
    "        return self.name == other.name and self.age == other.age\n",
    "\n",
    "    # here we are not giving the self but it is taking autoatically\n",
    "    def old(age):\n",
    "        if age>18:\n",
    "            return 'old'\n",
    "        else:\n",
    "            return 'young'\n",
    "    # to access -> work on class softwareengineer.old(23) but not work on instance se1.old(23)\n",
    "\n",
    "    @staticmethod\n",
    "    def old(age):\n",
    "        if age>18:\n",
    "            return 'old'\n",
    "        else:\n",
    "            return 'young'\n",
    "    # Here @ static is a decprator so we can run as a class ike before but now we can run uit as a instance also\n",
    "    \n",
    "\n",
    "\n",
    "#instance of class\n",
    "se1  = SoftwareEngineer('shivam', 23, 00, 0)\n",
    "se2 = SoftwareEngineer('meena', 23, 233, 1)\n",
    "se3 = SoftwareEngineer('shivam', 23, 00, 0)"
   ]
  },
  {
   "cell_type": "code",
   "execution_count": 36,
   "metadata": {},
   "outputs": [],
   "source": [
    "\n",
    "d1 = ['Designer', 'phillip']"
   ]
  },
  {
   "cell_type": "code",
   "execution_count": 29,
   "metadata": {},
   "outputs": [
    {
     "name": "stdout",
     "output_type": "stream",
     "text": [
      "IT\n",
      "IT\n"
     ]
    }
   ],
   "source": [
    "print(se1.dept)\n",
    "print(SoftwareEngineer.dept)"
   ]
  },
  {
   "cell_type": "code",
   "execution_count": 37,
   "metadata": {},
   "outputs": [
    {
     "name": "stdout",
     "output_type": "stream",
     "text": [
      "shivam is codding...\n",
      "None\n",
      "shivam is writing a code in python\n",
      "None\n"
     ]
    }
   ],
   "source": [
    "print(se1.code())\n",
    "print(se1.codelan('python'))"
   ]
  },
  {
   "cell_type": "code",
   "execution_count": 41,
   "metadata": {},
   "outputs": [
    {
     "name": "stdout",
     "output_type": "stream",
     "text": [
      "name = shivam, lvl = 0, age = 23 \n"
     ]
    }
   ],
   "source": [
    "# after __str__(self) it is printing the info\n",
    "print(se1)"
   ]
  },
  {
   "cell_type": "code",
   "execution_count": 45,
   "metadata": {},
   "outputs": [
    {
     "name": "stdout",
     "output_type": "stream",
     "text": [
      "True\n",
      "False\n"
     ]
    }
   ],
   "source": [
    "# after __eql__\n",
    "print(se1 == se3)\n",
    "print(se1 == se2)"
   ]
  },
  {
   "cell_type": "code",
   "execution_count": 50,
   "metadata": {},
   "outputs": [
    {
     "name": "stdout",
     "output_type": "stream",
     "text": [
      "with dec\n",
      "old\n",
      "old\n",
      "without dec\n",
      "old\n"
     ]
    },
    {
     "ename": "TypeError",
     "evalue": "old() takes 1 positional argument but 2 were given",
     "output_type": "error",
     "traceback": [
      "\u001b[1;31m---------------------------------------------------------------------------\u001b[0m",
      "\u001b[1;31mTypeError\u001b[0m                                 Traceback (most recent call last)",
      "\u001b[1;32m~\\AppData\\Local\\Temp\\ipykernel_1768\\3012220346.py\u001b[0m in \u001b[0;36m<module>\u001b[1;34m\u001b[0m\n\u001b[0;32m      6\u001b[0m \u001b[0mprint\u001b[0m\u001b[1;33m(\u001b[0m\u001b[0mSoftwareEngineer\u001b[0m\u001b[1;33m.\u001b[0m\u001b[0mold\u001b[0m\u001b[1;33m(\u001b[0m\u001b[1;36m23\u001b[0m\u001b[1;33m)\u001b[0m\u001b[1;33m)\u001b[0m\u001b[1;33m\u001b[0m\u001b[1;33m\u001b[0m\u001b[0m\n\u001b[0;32m      7\u001b[0m \u001b[1;31m# error as it has taken self automatically but we don't need it\u001b[0m\u001b[1;33m\u001b[0m\u001b[1;33m\u001b[0m\u001b[0m\n\u001b[1;32m----> 8\u001b[1;33m \u001b[0mprint\u001b[0m\u001b[1;33m(\u001b[0m\u001b[0mse1\u001b[0m\u001b[1;33m.\u001b[0m\u001b[0mold\u001b[0m\u001b[1;33m(\u001b[0m\u001b[1;36m23\u001b[0m\u001b[1;33m)\u001b[0m\u001b[1;33m)\u001b[0m\u001b[1;33m\u001b[0m\u001b[1;33m\u001b[0m\u001b[0m\n\u001b[0m",
      "\u001b[1;31mTypeError\u001b[0m: old() takes 1 positional argument but 2 were given"
     ]
    }
   ],
   "source": [
    "#wit and with out decorator\n",
    "print('with dec')\n",
    "print(SoftwareEngineer.old_dec(23))\n",
    "print(se1.old_dec(23))\n",
    "print('without dec')\n",
    "print(SoftwareEngineer.old(23))\n",
    "# error as it has taken self automatically but we don't need it\n",
    "print(se1.old(23))"
   ]
  },
  {
   "cell_type": "code",
   "execution_count": null,
   "metadata": {},
   "outputs": [],
   "source": []
  }
 ],
 "metadata": {
  "kernelspec": {
   "display_name": "base",
   "language": "python",
   "name": "python3"
  },
  "language_info": {
   "codemirror_mode": {
    "name": "ipython",
    "version": 3
   },
   "file_extension": ".py",
   "mimetype": "text/x-python",
   "name": "python",
   "nbconvert_exporter": "python",
   "pygments_lexer": "ipython3",
   "version": "3.9.7"
  },
  "orig_nbformat": 4,
  "vscode": {
   "interpreter": {
    "hash": "3844a49c18a74871cca5193e45c5e4b46b25b0886fff53449ea495a2f93c944d"
   }
  }
 },
 "nbformat": 4,
 "nbformat_minor": 2
}
