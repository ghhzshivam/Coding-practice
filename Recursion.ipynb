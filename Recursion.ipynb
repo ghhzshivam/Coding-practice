{
 "cells": [
  {
   "cell_type": "code",
   "execution_count": 8,
   "metadata": {},
   "outputs": [
    {
     "name": "stdout",
     "output_type": "stream",
     "text": [
      "4 -\n",
      "3 -\n",
      "2 -\n",
      "1 -\n"
     ]
    }
   ],
   "source": [
    "def prints(n):\n",
    "    if n<1:\n",
    "        return\n",
    "        # print(n)\n",
    "    print(n, '-')\n",
    "    prints(n-1)\n",
    "\n",
    "prints(4)"
   ]
  },
  {
   "cell_type": "code",
   "execution_count": 4,
   "metadata": {},
   "outputs": [],
   "source": [
    "\n",
    "# An example of tail recursive function\n",
    " \n",
    " \n",
    "def printsrec(n):\n",
    " \n",
    "    if (n < 0):\n",
    "        return\n",
    "    print(str(n), end=' ')\n",
    " \n",
    "    # The last executed statement is recursive call\n",
    "    printsrec(n-1)\n",
    " \n",
    "    # This code is contributed by Pratham76\n",
    "    # improved by ashish2021"
   ]
  },
  {
   "cell_type": "code",
   "execution_count": null,
   "metadata": {},
   "outputs": [],
   "source": [
    "\n",
    "# ''' This QuickSort requires O(Log n) auxiliary space in\n",
    "#    worst case. '''\n",
    "# def quickSort(arr, low, high)\n",
    "# {\n",
    "#     while (low < high):\n",
    "#         ''' pi is partitioning index, arr[p] is now\n",
    "#            at right place '''\n",
    "#         pi = partition(arr, low, high);\n",
    " \n",
    "#         # If left part is smaller, then recur for left\n",
    "#         # part and handle right part iteratively\n",
    "#         if (pi - low < high - pi):\n",
    "#             quickSort(arr, low, pi - 1);\n",
    "#             low = pi + 1;\n",
    "         \n",
    "#         # Else recur for right part\n",
    "#         else:\n",
    "#             quickSort(arr, pi + 1, high);\n",
    "#             high = pi - 1;\n",
    "# }"
   ]
  },
  {
   "cell_type": "code",
   "execution_count": null,
   "metadata": {},
   "outputs": [],
   "source": [
    "# Fibonaci\n"
   ]
  },
  {
   "cell_type": "code",
   "execution_count": null,
   "metadata": {},
   "outputs": [],
   "source": []
  },
  {
   "cell_type": "code",
   "execution_count": null,
   "metadata": {},
   "outputs": [],
   "source": []
  },
  {
   "cell_type": "code",
   "execution_count": null,
   "metadata": {},
   "outputs": [],
   "source": []
  },
  {
   "cell_type": "code",
   "execution_count": null,
   "metadata": {},
   "outputs": [],
   "source": []
  },
  {
   "cell_type": "code",
   "execution_count": 9,
   "metadata": {},
   "outputs": [
    {
     "data": {
      "text/plain": [
       "720"
      ]
     },
     "execution_count": 9,
     "metadata": {},
     "output_type": "execute_result"
    }
   ],
   "source": [
    "def fact(n):\n",
    "    if n == 1:\n",
    "        return 1\n",
    "    else:\n",
    "        return n*fact(n-1)\n",
    "\n",
    "\n",
    "fact(6)\n"
   ]
  },
  {
   "cell_type": "code",
   "execution_count": null,
   "metadata": {},
   "outputs": [],
   "source": []
  },
  {
   "cell_type": "code",
   "execution_count": 10,
   "metadata": {},
   "outputs": [
    {
     "data": {
      "text/plain": [
       "16"
      ]
     },
     "execution_count": 10,
     "metadata": {},
     "output_type": "execute_result"
    }
   ],
   "source": [
    "def n2(n):\n",
    "    if n == 1:\n",
    "        return 2\n",
    "    else:\n",
    "        return 2*n2(n-1)\n",
    "\n",
    "\n",
    "n2(4)"
   ]
  },
  {
   "cell_type": "code",
   "execution_count": 13,
   "metadata": {},
   "outputs": [],
   "source": [
    "def fib(n):\n",
    "    if n == 1:\n",
    "        return 1\n",
    "    elif n == 0:\n",
    "        return 0\n",
    "    else:\n",
    "        return fib(n-1) + fib(n-2)"
   ]
  },
  {
   "cell_type": "code",
   "execution_count": 15,
   "metadata": {},
   "outputs": [
    {
     "data": {
      "text/plain": [
       "8"
      ]
     },
     "execution_count": 15,
     "metadata": {},
     "output_type": "execute_result"
    }
   ],
   "source": [
    "fib(6)"
   ]
  },
  {
   "cell_type": "code",
   "execution_count": null,
   "metadata": {},
   "outputs": [],
   "source": []
  }
 ],
 "metadata": {
  "kernelspec": {
   "display_name": "Python 3",
   "language": "python",
   "name": "python3"
  },
  "language_info": {
   "codemirror_mode": {
    "name": "ipython",
    "version": 3
   },
   "file_extension": ".py",
   "mimetype": "text/x-python",
   "name": "python",
   "nbconvert_exporter": "python",
   "pygments_lexer": "ipython3",
   "version": "3.9.7"
  },
  "orig_nbformat": 4
 },
 "nbformat": 4,
 "nbformat_minor": 2
}
