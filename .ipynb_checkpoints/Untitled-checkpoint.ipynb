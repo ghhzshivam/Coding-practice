{
 "cells": [
  {
   "cell_type": "code",
   "execution_count": 23,
   "id": "329f03df",
   "metadata": {},
   "outputs": [
    {
     "ename": "NameError",
     "evalue": "name 'sort' is not defined",
     "output_type": "error",
     "traceback": [
      "\u001b[1;31m---------------------------------------------------------------------------\u001b[0m",
      "\u001b[1;31mNameError\u001b[0m                                 Traceback (most recent call last)",
      "\u001b[1;32m~\\AppData\\Local\\Temp/ipykernel_15112/2397759515.py\u001b[0m in \u001b[0;36m<module>\u001b[1;34m\u001b[0m\n\u001b[0;32m     15\u001b[0m \u001b[1;33m\u001b[0m\u001b[0m\n\u001b[0;32m     16\u001b[0m \u001b[1;31m# diff\u001b[0m\u001b[1;33m\u001b[0m\u001b[1;33m\u001b[0m\u001b[0m\n\u001b[1;32m---> 17\u001b[1;33m \u001b[0msort\u001b[0m\u001b[1;33m(\u001b[0m\u001b[0mnms\u001b[0m\u001b[1;33m)\u001b[0m\u001b[1;33m\u001b[0m\u001b[1;33m\u001b[0m\u001b[0m\n\u001b[0m\u001b[0;32m     18\u001b[0m \u001b[0mnums\u001b[0m\u001b[1;33m\u001b[0m\u001b[1;33m\u001b[0m\u001b[0m\n",
      "\u001b[1;31mNameError\u001b[0m: name 'sort' is not defined"
     ]
    }
   ],
   "source": [
    "# three closest sum\n",
    "\n",
    "nums = [-1,2,1,-4]\n",
    "# nums = [0,0,0]\n",
    "target = 1\n",
    "# diff = 0\n",
    "# if len(num)<3:\n",
    "#     print(False)\n",
    "# for i in range(len(num)):\n",
    "#     for j in range(i+1,len(num)):\n",
    "#         for k in range(i+2,len(num)):\n",
    "#             a  = num[i] +num[j]+num[k]\n",
    "#             if abs(a-target)>diff:\n",
    "#                 diff = a\n",
    "            \n",
    "# diff\n",
    "nums.sort()\n",
    "res = sum(nums[:3])\n",
    "for i in range(len(nums)-2):\n",
    "    s = i+1\n",
    "    e = len(nums)-1\n",
    "    while s<e:\n",
    "        a = nums[i]+nums[e]+nums[s]\n",
    "        \n",
    "        if abs(a-target)<abs(res-target):\n",
    "            res = a\n",
    "        if a<tartget:\n",
    "            s += 1\n",
    "        else:\n",
    "            e -=1\n",
    "    "
   ]
  },
  {
   "cell_type": "code",
   "execution_count": 17,
   "id": "302978ed",
   "metadata": {},
   "outputs": [
    {
     "name": "stdout",
     "output_type": "stream",
     "text": [
      "None\n"
     ]
    }
   ],
   "source": [
    "print(num)"
   ]
  },
  {
   "cell_type": "code",
   "execution_count": null,
   "id": "eb795e21",
   "metadata": {},
   "outputs": [],
   "source": []
  }
 ],
 "metadata": {
  "kernelspec": {
   "display_name": "Python 3 (ipykernel)",
   "language": "python",
   "name": "python3"
  },
  "language_info": {
   "codemirror_mode": {
    "name": "ipython",
    "version": 3
   },
   "file_extension": ".py",
   "mimetype": "text/x-python",
   "name": "python",
   "nbconvert_exporter": "python",
   "pygments_lexer": "ipython3",
   "version": "3.9.7"
  }
 },
 "nbformat": 4,
 "nbformat_minor": 5
}
