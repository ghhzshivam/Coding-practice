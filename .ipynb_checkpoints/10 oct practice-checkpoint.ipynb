{
 "cells": [
  {
   "cell_type": "code",
   "execution_count": 27,
   "id": "52f05a15",
   "metadata": {},
   "outputs": [
    {
     "name": "stdout",
     "output_type": "stream",
     "text": [
      "True\n"
     ]
    }
   ],
   "source": [
    "# 202. Happy Number\n",
    "# Starting with any positive integer, replace the number by the sum of the squares of its digits.\n",
    "# Repeat the process until the number equals 1 (where it will stay), or it loops endlessly in a cycle which does not include 1.\n",
    "# Input: n = 19\n",
    "# Output: true\n",
    "# Explanation:\n",
    "# 12 + 92 = 82\n",
    "# 82 + 22 = 68\n",
    "# 62 + 82 = 100\n",
    "# 12 + 02 + 02 = 1\n",
    "\n",
    "n = 19\n",
    "\n",
    "def n_val(a):\n",
    "    co = 0\n",
    "    while a>=1:\n",
    "        x = a%10\n",
    "        a = int(a/10)\n",
    "        \n",
    "        co = co+x*x\n",
    "    return co\n",
    "\n",
    "def happy(n):\n",
    "    if n== 1:\n",
    "        return True\n",
    "    while n != 1:\n",
    "        if n<9:\n",
    "            return False\n",
    "        else:\n",
    "            n = n_val(n)\n",
    "    return True\n",
    "\n",
    "print(happy(68))"
   ]
  },
  {
   "cell_type": "code",
   "execution_count": 30,
   "id": "e51c8de9",
   "metadata": {},
   "outputs": [
    {
     "data": {
      "text/plain": [
       "4"
      ]
     },
     "execution_count": 30,
     "metadata": {},
     "output_type": "execute_result"
    }
   ],
   "source": [
    "# 485. Max Consecutive Ones\n",
    "# Input: nums = [1,1,0,1,1,1]\n",
    "# Output: 3\n",
    "nums = [1,1,0,1,1,1,1]\n",
    "def max_one(nums):\n",
    "    l = 0\n",
    "    co = 0\n",
    "    for i in range(len(nums)):\n",
    "\n",
    "        if nums[i] == 1:\n",
    "            co +=1\n",
    "            if co>l:\n",
    "                l = co\n",
    "        else:\n",
    "            co = 0\n",
    "    return l\n",
    "max_one(nums)\n",
    "            "
   ]
  },
  {
   "cell_type": "code",
   "execution_count": 43,
   "id": "94138153",
   "metadata": {},
   "outputs": [
    {
     "data": {
      "text/plain": [
       "5"
      ]
     },
     "execution_count": 43,
     "metadata": {},
     "output_type": "execute_result"
    }
   ],
   "source": [
    "# 594. Longest Harmonious Subsequence\n",
    "# We define a harmonious array as an array where the difference between its maximum value and its minimum value is exactly 1.\n",
    "\n",
    "# Given an integer array nums, return the length of its longest harmonious subsequence among all its possible subsequences.\n",
    "\n",
    "# Input: nums = [1,3,2,2,5,2,3,7]\n",
    "# Output: 5\n",
    "# Explanation: The longest harmonious subsequence is [3,2,2,2,3].\n",
    "\n",
    "\n",
    "from collections import Counter\n",
    "\n",
    "nums = [1,3,2,2,5,2,3,7]\n",
    "count = Counter(nums)\n",
    "ans = 0\n",
    "for k,val in count.items():\n",
    "    if k+1 in count:\n",
    "        ans = max(ans, val+count[k+1])\n",
    "ans         \n",
    "# nums = [1,3,2,2,5,2,3,7]\n",
    "# d = {}\n",
    "\n",
    "# for i in nums:\n",
    "#     if i not in d.keys():\n",
    "#         d[i] = 1\n",
    "#     else:\n",
    "#         d[i] += 1\n",
    "        \n",
    "# a = 0\n",
    "# for k, val in d.items():\n",
    "#     if k+1 in d.keys():\n",
    "#         a = max(0, val+ d[k+1])    \n",
    "# a    \n",
    "        \n",
    "    "
   ]
  },
  {
   "cell_type": "code",
   "execution_count": 40,
   "id": "34fc7417",
   "metadata": {},
   "outputs": [
    {
     "data": {
      "text/plain": [
       "{}"
      ]
     },
     "execution_count": 40,
     "metadata": {},
     "output_type": "execute_result"
    }
   ],
   "source": [
    "c"
   ]
  },
  {
   "cell_type": "code",
   "execution_count": null,
   "id": "be9d9f5f",
   "metadata": {},
   "outputs": [],
   "source": []
  }
 ],
 "metadata": {
  "kernelspec": {
   "display_name": "Python 3 (ipykernel)",
   "language": "python",
   "name": "python3"
  },
  "language_info": {
   "codemirror_mode": {
    "name": "ipython",
    "version": 3
   },
   "file_extension": ".py",
   "mimetype": "text/x-python",
   "name": "python",
   "nbconvert_exporter": "python",
   "pygments_lexer": "ipython3",
   "version": "3.9.7"
  }
 },
 "nbformat": 4,
 "nbformat_minor": 5
}
