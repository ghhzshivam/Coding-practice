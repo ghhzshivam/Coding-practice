{
 "cells": [
  {
   "attachments": {},
   "cell_type": "markdown",
   "metadata": {},
   "source": [
    "# Linked List\n",
    "\n",
    "resources\n",
    "\n",
    "geeks for geeks: https://www.geeksforgeeks.org/data-structures/linked-list/\n",
    "\n",
    "next = https://www.geeksforgeeks.org/search-an-element-in-a-linked-list-iterative-and-recursive/"
   ]
  },
  {
   "cell_type": "code",
   "execution_count": 2,
   "metadata": {},
   "outputs": [],
   "source": [
    "class node:\n",
    "    def __init__(self, data):\n",
    "        self.data = data\n",
    "        self.next = None\n",
    "\n",
    "class Linked_List:\n",
    "\n",
    "    def __init__(self):\n",
    "        self.head = None\n",
    "\n",
    "    def insert_start(self, data):\n",
    "        # assigning new node\n",
    "        new_node = node(data)\n",
    "        \n",
    "        new_node.next = self.head\n",
    "        self.head = new_node\n",
    "\n",
    "    def insert_last(self, data):\n",
    "        new_node = node(data)\n",
    "\n",
    "        if self.head == None:\n",
    "            self.head = new_node\n",
    "        else:\n",
    "            last = self.head\n",
    "            while last.next:\n",
    "                last = last.next\n",
    "            last.next = new_node\n",
    " \n",
    "\n",
    "    def insert_middle(self, pre, data):\n",
    "        new_node = node(data)\n",
    "\n",
    "        if self.head is None:\n",
    "            return \"No node found\"\n",
    "        \n",
    "        mid = self.head\n",
    "\n",
    "        while mid.next:\n",
    "            if mid.data == pre:\n",
    "                p = mid.next\n",
    "                mid.next = new_node\n",
    "                mid = mid.next\n",
    "                mid.next = p\n",
    "            mid = mid.next\n",
    "\n",
    "\n",
    "\n",
    "    def print_list(self):\n",
    "        value = self.head\n",
    "        # while not null it will run\n",
    "        while value:\n",
    "            print(value.data, end = \" -> \")\n",
    "            value = value.next\n",
    "        print(\"Null\")\n",
    "    \n",
    "    def check_node(self, data):\n",
    "        last = self.head\n",
    "\n",
    "        while last != None:\n",
    "            if last.data == data:\n",
    "                return True\n",
    "            last = last.next\n",
    "        return False\n",
    "\n",
    "\n",
    "\n",
    "    def check_node_recursion(self, data):\n",
    "        a = self.head\n",
    "        return (rec(a, data))\n",
    "\n",
    "    # def re(self, n, data):\n",
    "    #     if not n:\n",
    "    #         return False\n",
    "        \n",
    "    #     if n.data == data:\n",
    "    #         return True\n",
    "    #     return re(n.next, data)\n",
    "\n",
    "\n",
    "\n",
    "def rec(point, data):\n",
    "    if not point:\n",
    "        return False\n",
    "    if point.data == data:\n",
    "        return True\n",
    "    return(rec(point.next, data))"
   ]
  },
  {
   "cell_type": "code",
   "execution_count": 3,
   "metadata": {},
   "outputs": [
    {
     "name": "stdout",
     "output_type": "stream",
     "text": [
      "15 -> 14 -> 13 -> Null\n",
      "15 -> 14 -> 13 -> 12 -> a -> Null\n",
      "15 -> 14.5 -> 14 -> 13.5 -> 13 -> 12 -> a -> Null\n"
     ]
    },
    {
     "data": {
      "text/plain": [
       "True"
      ]
     },
     "execution_count": 3,
     "metadata": {},
     "output_type": "execute_result"
    }
   ],
   "source": [
    "ll = Linked_List()\n",
    "ll.insert_start(13)\n",
    "ll.insert_start(14)\n",
    "ll.insert_start(15)\n",
    "\n",
    "ll.print_list()\n",
    "\n",
    "ll.insert_last(12)\n",
    "ll.insert_last('a')\n",
    "\n",
    "ll.print_list()\n",
    "\n",
    "ll.insert_middle(14, 13.5)\n",
    "ll.insert_middle(15, 14.5)\n",
    "\n",
    "ll.print_list()\n",
    "\n",
    "ll.check_node(14)"
   ]
  },
  {
   "cell_type": "code",
   "execution_count": 5,
   "metadata": {},
   "outputs": [
    {
     "data": {
      "text/plain": [
       "False"
      ]
     },
     "execution_count": 5,
     "metadata": {},
     "output_type": "execute_result"
    }
   ],
   "source": [
    "ll.check_node_recursion(18)"
   ]
  },
  {
   "cell_type": "code",
   "execution_count": null,
   "metadata": {},
   "outputs": [],
   "source": []
  },
  {
   "attachments": {},
   "cell_type": "markdown",
   "metadata": {},
   "source": [
    "# Advanced Linked List"
   ]
  },
  {
   "attachments": {},
   "cell_type": "markdown",
   "metadata": {},
   "source": [
    "# Stack"
   ]
  },
  {
   "cell_type": "code",
   "execution_count": 13,
   "metadata": {},
   "outputs": [],
   "source": [
    "# Stack using array\n",
    "\n",
    "class stack():\n",
    "\n",
    "    def __init__(self):\n",
    "        self.l = []\n",
    "\n",
    "\n",
    "    def push(self, value):\n",
    "        self.l.append(value)\n",
    "\n",
    "    def is_empty(self):\n",
    "        if len(self.l) == 0:\n",
    "            # print(\"Stack is empty\")\n",
    "            return False\n",
    "        else:\n",
    "            # print(\"Stack is not empty\n",
    "            # \\\")\n",
    "            return True\n",
    "    \n",
    "\n",
    "    def pop(self):\n",
    "        if len(self.l) == 0:\n",
    "            return('empty stack')\n",
    "        else:\n",
    "            self.l.pop()\n",
    "\n",
    "    def __len__(self):\n",
    "        return len(self.l)\n",
    "\n",
    "    def print_stack(self):\n",
    "        print(self.l)        "
   ]
  },
  {
   "cell_type": "code",
   "execution_count": 20,
   "metadata": {},
   "outputs": [
    {
     "name": "stdout",
     "output_type": "stream",
     "text": [
      "3\n",
      "[4, 5, 9]\n",
      "[4, 5]\n"
     ]
    }
   ],
   "source": [
    "s = stack()\n",
    "s.push(4)\n",
    "s.push(5)\n",
    "s.push(9)\n",
    "print(len(s))\n",
    "s.print_stack()\n",
    "s.pop()\n",
    "s.print_stack()"
   ]
  },
  {
   "attachments": {},
   "cell_type": "markdown",
   "metadata": {},
   "source": [
    "# Queue"
   ]
  },
  {
   "attachments": {},
   "cell_type": "markdown",
   "metadata": {},
   "source": []
  }
 ],
 "metadata": {
  "kernelspec": {
   "display_name": "base",
   "language": "python",
   "name": "python3"
  },
  "language_info": {
   "codemirror_mode": {
    "name": "ipython",
    "version": 3
   },
   "file_extension": ".py",
   "mimetype": "text/x-python",
   "name": "python",
   "nbconvert_exporter": "python",
   "pygments_lexer": "ipython3",
   "version": "3.9.7"
  },
  "orig_nbformat": 4
 },
 "nbformat": 4,
 "nbformat_minor": 2
}
