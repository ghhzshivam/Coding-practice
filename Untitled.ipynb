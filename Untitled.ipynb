{
 "cells": [
  {
   "cell_type": "markdown",
   "id": "db166c81",
   "metadata": {},
   "source": [
    "## Todays goal 10"
   ]
  },
  {
   "cell_type": "code",
   "execution_count": 1,
   "id": "32262409",
   "metadata": {},
   "outputs": [
    {
     "data": {
      "text/plain": [
       "2"
      ]
     },
     "execution_count": 1,
     "metadata": {},
     "output_type": "execute_result"
    }
   ],
   "source": [
    "# three closest sum\n",
    "\n",
    "nums = [-1,2,1,-4]\n",
    "# nums = [0,0,0]\n",
    "target = 1\n",
    "# diff = 0\n",
    "# if len(num)<3:\n",
    "#     print(False)\n",
    "# for i in range(len(num)):\n",
    "#     for j in range(i+1,len(num)):\n",
    "#         for k in range(i+2,len(num)):\n",
    "#             a  = num[i] +num[j]+num[k]\n",
    "#             if abs(a-target)>diff:\n",
    "#                 diff = a\n",
    "            \n",
    "# diff\n",
    "nums.sort()\n",
    "res = sum(nums[:3])\n",
    "for i in range(len(nums)-2):\n",
    "    s = i+1\n",
    "    e = len(nums)-1\n",
    "    while s<e:\n",
    "        a = nums[i]+nums[e]+nums[s]\n",
    "        \n",
    "        if abs(a-target)<abs(res-target):\n",
    "            res = a\n",
    "        if a<target:\n",
    "            s += 1\n",
    "        else:\n",
    "            e -=1\n",
    "res   "
   ]
  },
  {
   "cell_type": "code",
   "execution_count": 2,
   "id": "c0d58920",
   "metadata": {},
   "outputs": [
    {
     "data": {
      "text/plain": [
       "2"
      ]
     },
     "execution_count": 2,
     "metadata": {},
     "output_type": "execute_result"
    }
   ],
   "source": [
    "mos = [\".-\",\"-...\",\"-.-.\",\"-..\",\".\",\"..-.\",\"--.\",\"....\",\"..\",\".---\",\"-.-\",\".-..\",\"--\",\"-.\",\"---\",\".--.\",\"--.-\",\".-.\",\"...\",\"-\",\"..-\",\"...-\",\".--\",\"-..-\",\"-.--\",\"--..\"]\n",
    "words = [\"gin\",\"zen\",\"gig\",\"msg\"]\n",
    "code = []\n",
    "for i in words:\n",
    "    a = ''\n",
    "    for j in i:      \n",
    "        a = a+mos[ord(j)-97]\n",
    "    code.append(a)\n",
    "count = 0\n",
    "l = []\n",
    "for i in code:\n",
    "    if i in l:\n",
    "        count+=1\n",
    "    else:\n",
    "        l.append(i)\n",
    "count"
   ]
  },
  {
   "cell_type": "code",
   "execution_count": 3,
   "id": "08c9ca2a",
   "metadata": {},
   "outputs": [],
   "source": [
    "# 136. Single Number\n",
    "# class Solution:\n",
    "#     def singleNumber(self, nums: List[int]) -> int:\n",
    "#         l = []\n",
    "#         for i in range(len(nums)):\n",
    "#             if nums[i] not in nums[i+1::] and nums[i] not in l:\n",
    "#                 return nums[i]\n",
    "#             else:\n",
    "#                 l.append(nums[i])\n",
    "\n",
    "# # sol using xor operation\n",
    "# def singleNumber(self, nums: List[int]) -> int:\n",
    "# \treturn reduce(lambda total, el: total ^ el, nums)\n"
   ]
  },
  {
   "cell_type": "code",
   "execution_count": 4,
   "id": "55a138a3",
   "metadata": {},
   "outputs": [
    {
     "name": "stdout",
     "output_type": "stream",
     "text": [
      "{1, 2}\n"
     ]
    },
    {
     "data": {
      "text/plain": [
       "2"
      ]
     },
     "execution_count": 4,
     "metadata": {},
     "output_type": "execute_result"
    }
   ],
   "source": [
    "# 26. Remove Duplicates from Sorted Array\n",
    "\n",
    "\n",
    "# nums = [0,0,1,1,1,2,2,3,3,4]\n",
    "nums =[1,1,2]\n",
    "\n",
    "print(set(nums))\n",
    "res = len(set(nums))\n",
    "res"
   ]
  },
  {
   "cell_type": "code",
   "execution_count": 5,
   "id": "3ec486d7",
   "metadata": {},
   "outputs": [],
   "source": [
    "# # 2011. Final Value of Variable After Performing Operations\n",
    "# class Solution:\n",
    "#     def finalValueAfterOperations(self, operations: List[str]) -> int:\n",
    "#         x = 0\n",
    "#         for i in operations:\n",
    "#             if '+' in i:\n",
    "#                 x +=1 \n",
    "#             elif '-' in i:\n",
    "#                 x -= 1\n",
    "#         return x"
   ]
  },
  {
   "cell_type": "code",
   "execution_count": 7,
   "id": "89dca520",
   "metadata": {},
   "outputs": [],
   "source": [
    "# # return kth non repeating element\n",
    "# d = {}\n",
    "#         for s in arr:\n",
    "#             if arr.count(s)==1:\n",
    "#                 k-=1\n",
    "#                 if k==0:\n",
    "#                     return s\n",
    "#         return \"\"\n"
   ]
  },
  {
   "cell_type": "code",
   "execution_count": 8,
   "id": "2b4e334b",
   "metadata": {},
   "outputs": [],
   "source": [
    "# # 2273. Find Resultant Array After Removing Anagrams\n",
    "\n",
    "# words = [\"abba\",\"baba\",\"bbaa\",\"cd\",\"cd\"]\n",
    "# #  [\"abba\",\"cd\"]\n",
    "# if len(words) ==1:\n",
    "#     print(words)\n",
    "# i = 0\n",
    "# while i<len(words):\n",
    "#     if sorted(list(words[i])) == sorted(list(words[i-1])):\n",
    "#         words.pop[i]\n",
    "#     else:\n",
    "#         i+=1\n",
    "# words"
   ]
  },
  {
   "cell_type": "code",
   "execution_count": 9,
   "id": "10216a09",
   "metadata": {},
   "outputs": [
    {
     "name": "stdout",
     "output_type": "stream",
     "text": [
      "True\n"
     ]
    }
   ],
   "source": [
    "# 125. Valid Palindrome\n",
    "\n",
    "s = \"A man, a plan, a canal: Panama\"\n",
    "s = s.lower()\n",
    "a = ''\n",
    "for i in s:\n",
    "    if (ord(i)>=97 and ord(i)<=122) or (ord(i)>=48 and ord(i)<=57):\n",
    "        a += i\n",
    "if a == a[::-1]:\n",
    "    print( True)\n",
    "else: print( False)"
   ]
  },
  {
   "cell_type": "code",
   "execution_count": 10,
   "id": "03afecc7",
   "metadata": {},
   "outputs": [],
   "source": [
    "# import math\n",
    "# class Solution:\n",
    "#     def mySqrt(self, x: int) -> int:\n",
    "#         return int(math.sqrt(x))"
   ]
  },
  {
   "cell_type": "markdown",
   "id": "d26fc123",
   "metadata": {},
   "source": [
    "## Graph problem\n",
    "\n"
   ]
  },
  {
   "cell_type": "code",
   "execution_count": 23,
   "id": "5f16a00e",
   "metadata": {},
   "outputs": [
    {
     "ename": "IndexError",
     "evalue": "list index out of range",
     "output_type": "error",
     "traceback": [
      "\u001b[1;31m---------------------------------------------------------------------------\u001b[0m",
      "\u001b[1;31mIndexError\u001b[0m                                Traceback (most recent call last)",
      "\u001b[1;32m~\\AppData\\Local\\Temp/ipykernel_15128/476221598.py\u001b[0m in \u001b[0;36m<module>\u001b[1;34m\u001b[0m\n\u001b[0;32m     28\u001b[0m     \u001b[0msink_connected\u001b[0m\u001b[1;33m(\u001b[0m\u001b[0mboard\u001b[0m\u001b[1;33m,\u001b[0m \u001b[0mi\u001b[0m\u001b[1;33m,\u001b[0m \u001b[0mj\u001b[0m\u001b[1;33m-\u001b[0m\u001b[1;36m1\u001b[0m\u001b[1;33m)\u001b[0m\u001b[1;33m\u001b[0m\u001b[1;33m\u001b[0m\u001b[0m\n\u001b[0;32m     29\u001b[0m \u001b[1;33m\u001b[0m\u001b[0m\n\u001b[1;32m---> 30\u001b[1;33m \u001b[0mcount_battelship\u001b[0m\u001b[1;33m(\u001b[0m\u001b[0mboard\u001b[0m\u001b[1;33m)\u001b[0m\u001b[1;33m\u001b[0m\u001b[1;33m\u001b[0m\u001b[0m\n\u001b[0m",
      "\u001b[1;32m~\\AppData\\Local\\Temp/ipykernel_15128/476221598.py\u001b[0m in \u001b[0;36mcount_battelship\u001b[1;34m(board)\u001b[0m\n\u001b[0;32m     14\u001b[0m             \u001b[1;32mif\u001b[0m \u001b[1;33m(\u001b[0m\u001b[0mboard\u001b[0m\u001b[1;33m[\u001b[0m\u001b[0mi\u001b[0m\u001b[1;33m]\u001b[0m\u001b[1;33m[\u001b[0m\u001b[0mj\u001b[0m\u001b[1;33m]\u001b[0m \u001b[1;33m==\u001b[0m \u001b[1;34m'X'\u001b[0m\u001b[1;33m)\u001b[0m\u001b[1;33m:\u001b[0m\u001b[1;33m\u001b[0m\u001b[1;33m\u001b[0m\u001b[0m\n\u001b[0;32m     15\u001b[0m                 \u001b[0mco\u001b[0m \u001b[1;33m+=\u001b[0m \u001b[1;36m1\u001b[0m\u001b[1;33m\u001b[0m\u001b[1;33m\u001b[0m\u001b[0m\n\u001b[1;32m---> 16\u001b[1;33m                 \u001b[0msink_connected\u001b[0m\u001b[1;33m(\u001b[0m\u001b[0mboard\u001b[0m\u001b[1;33m,\u001b[0m\u001b[0mi\u001b[0m\u001b[1;33m,\u001b[0m\u001b[0mj\u001b[0m\u001b[1;33m)\u001b[0m\u001b[1;33m\u001b[0m\u001b[1;33m\u001b[0m\u001b[0m\n\u001b[0m\u001b[0;32m     17\u001b[0m \u001b[1;33m\u001b[0m\u001b[0m\n\u001b[0;32m     18\u001b[0m     \u001b[1;32mreturn\u001b[0m \u001b[0mco\u001b[0m\u001b[1;33m\u001b[0m\u001b[1;33m\u001b[0m\u001b[0m\n",
      "\u001b[1;32m~\\AppData\\Local\\Temp/ipykernel_15128/476221598.py\u001b[0m in \u001b[0;36msink_connected\u001b[1;34m(board, i, j)\u001b[0m\n\u001b[0;32m     23\u001b[0m \u001b[1;33m\u001b[0m\u001b[0m\n\u001b[0;32m     24\u001b[0m     \u001b[0mboard\u001b[0m\u001b[1;33m[\u001b[0m\u001b[0mi\u001b[0m\u001b[1;33m]\u001b[0m\u001b[1;33m[\u001b[0m\u001b[0mj\u001b[0m\u001b[1;33m]\u001b[0m \u001b[1;33m=\u001b[0m \u001b[1;34m'.'\u001b[0m\u001b[1;33m\u001b[0m\u001b[1;33m\u001b[0m\u001b[0m\n\u001b[1;32m---> 25\u001b[1;33m     \u001b[0msink_connected\u001b[0m\u001b[1;33m(\u001b[0m\u001b[0mboard\u001b[0m\u001b[1;33m,\u001b[0m \u001b[0mi\u001b[0m\u001b[1;33m+\u001b[0m\u001b[1;36m1\u001b[0m\u001b[1;33m,\u001b[0m \u001b[0mj\u001b[0m\u001b[1;33m)\u001b[0m\u001b[1;33m\u001b[0m\u001b[1;33m\u001b[0m\u001b[0m\n\u001b[0m\u001b[0;32m     26\u001b[0m     \u001b[0msink_connected\u001b[0m\u001b[1;33m(\u001b[0m\u001b[0mboard\u001b[0m\u001b[1;33m,\u001b[0m \u001b[0mi\u001b[0m\u001b[1;33m-\u001b[0m\u001b[1;36m1\u001b[0m\u001b[1;33m,\u001b[0m \u001b[0mj\u001b[0m\u001b[1;33m)\u001b[0m\u001b[1;33m\u001b[0m\u001b[1;33m\u001b[0m\u001b[0m\n\u001b[0;32m     27\u001b[0m     \u001b[0msink_connected\u001b[0m\u001b[1;33m(\u001b[0m\u001b[0mboard\u001b[0m\u001b[1;33m,\u001b[0m \u001b[0mi\u001b[0m\u001b[1;33m,\u001b[0m \u001b[0mj\u001b[0m\u001b[1;33m+\u001b[0m\u001b[1;36m1\u001b[0m\u001b[1;33m)\u001b[0m\u001b[1;33m\u001b[0m\u001b[1;33m\u001b[0m\u001b[0m\n",
      "\u001b[1;32m~\\AppData\\Local\\Temp/ipykernel_15128/476221598.py\u001b[0m in \u001b[0;36msink_connected\u001b[1;34m(board, i, j)\u001b[0m\n\u001b[0;32m     23\u001b[0m \u001b[1;33m\u001b[0m\u001b[0m\n\u001b[0;32m     24\u001b[0m     \u001b[0mboard\u001b[0m\u001b[1;33m[\u001b[0m\u001b[0mi\u001b[0m\u001b[1;33m]\u001b[0m\u001b[1;33m[\u001b[0m\u001b[0mj\u001b[0m\u001b[1;33m]\u001b[0m \u001b[1;33m=\u001b[0m \u001b[1;34m'.'\u001b[0m\u001b[1;33m\u001b[0m\u001b[1;33m\u001b[0m\u001b[0m\n\u001b[1;32m---> 25\u001b[1;33m     \u001b[0msink_connected\u001b[0m\u001b[1;33m(\u001b[0m\u001b[0mboard\u001b[0m\u001b[1;33m,\u001b[0m \u001b[0mi\u001b[0m\u001b[1;33m+\u001b[0m\u001b[1;36m1\u001b[0m\u001b[1;33m,\u001b[0m \u001b[0mj\u001b[0m\u001b[1;33m)\u001b[0m\u001b[1;33m\u001b[0m\u001b[1;33m\u001b[0m\u001b[0m\n\u001b[0m\u001b[0;32m     26\u001b[0m     \u001b[0msink_connected\u001b[0m\u001b[1;33m(\u001b[0m\u001b[0mboard\u001b[0m\u001b[1;33m,\u001b[0m \u001b[0mi\u001b[0m\u001b[1;33m-\u001b[0m\u001b[1;36m1\u001b[0m\u001b[1;33m,\u001b[0m \u001b[0mj\u001b[0m\u001b[1;33m)\u001b[0m\u001b[1;33m\u001b[0m\u001b[1;33m\u001b[0m\u001b[0m\n\u001b[0;32m     27\u001b[0m     \u001b[0msink_connected\u001b[0m\u001b[1;33m(\u001b[0m\u001b[0mboard\u001b[0m\u001b[1;33m,\u001b[0m \u001b[0mi\u001b[0m\u001b[1;33m,\u001b[0m \u001b[0mj\u001b[0m\u001b[1;33m+\u001b[0m\u001b[1;36m1\u001b[0m\u001b[1;33m)\u001b[0m\u001b[1;33m\u001b[0m\u001b[1;33m\u001b[0m\u001b[0m\n",
      "\u001b[1;32m~\\AppData\\Local\\Temp/ipykernel_15128/476221598.py\u001b[0m in \u001b[0;36msink_connected\u001b[1;34m(board, i, j)\u001b[0m\n\u001b[0;32m     23\u001b[0m \u001b[1;33m\u001b[0m\u001b[0m\n\u001b[0;32m     24\u001b[0m     \u001b[0mboard\u001b[0m\u001b[1;33m[\u001b[0m\u001b[0mi\u001b[0m\u001b[1;33m]\u001b[0m\u001b[1;33m[\u001b[0m\u001b[0mj\u001b[0m\u001b[1;33m]\u001b[0m \u001b[1;33m=\u001b[0m \u001b[1;34m'.'\u001b[0m\u001b[1;33m\u001b[0m\u001b[1;33m\u001b[0m\u001b[0m\n\u001b[1;32m---> 25\u001b[1;33m     \u001b[0msink_connected\u001b[0m\u001b[1;33m(\u001b[0m\u001b[0mboard\u001b[0m\u001b[1;33m,\u001b[0m \u001b[0mi\u001b[0m\u001b[1;33m+\u001b[0m\u001b[1;36m1\u001b[0m\u001b[1;33m,\u001b[0m \u001b[0mj\u001b[0m\u001b[1;33m)\u001b[0m\u001b[1;33m\u001b[0m\u001b[1;33m\u001b[0m\u001b[0m\n\u001b[0m\u001b[0;32m     26\u001b[0m     \u001b[0msink_connected\u001b[0m\u001b[1;33m(\u001b[0m\u001b[0mboard\u001b[0m\u001b[1;33m,\u001b[0m \u001b[0mi\u001b[0m\u001b[1;33m-\u001b[0m\u001b[1;36m1\u001b[0m\u001b[1;33m,\u001b[0m \u001b[0mj\u001b[0m\u001b[1;33m)\u001b[0m\u001b[1;33m\u001b[0m\u001b[1;33m\u001b[0m\u001b[0m\n\u001b[0;32m     27\u001b[0m     \u001b[0msink_connected\u001b[0m\u001b[1;33m(\u001b[0m\u001b[0mboard\u001b[0m\u001b[1;33m,\u001b[0m \u001b[0mi\u001b[0m\u001b[1;33m,\u001b[0m \u001b[0mj\u001b[0m\u001b[1;33m+\u001b[0m\u001b[1;36m1\u001b[0m\u001b[1;33m)\u001b[0m\u001b[1;33m\u001b[0m\u001b[1;33m\u001b[0m\u001b[0m\n",
      "\u001b[1;32m~\\AppData\\Local\\Temp/ipykernel_15128/476221598.py\u001b[0m in \u001b[0;36msink_connected\u001b[1;34m(board, i, j)\u001b[0m\n\u001b[0;32m     19\u001b[0m \u001b[1;33m\u001b[0m\u001b[0m\n\u001b[0;32m     20\u001b[0m \u001b[1;32mdef\u001b[0m \u001b[0msink_connected\u001b[0m\u001b[1;33m(\u001b[0m\u001b[0mboard\u001b[0m\u001b[1;33m,\u001b[0m \u001b[0mi\u001b[0m\u001b[1;33m,\u001b[0m \u001b[0mj\u001b[0m\u001b[1;33m)\u001b[0m\u001b[1;33m:\u001b[0m\u001b[1;33m\u001b[0m\u001b[1;33m\u001b[0m\u001b[0m\n\u001b[1;32m---> 21\u001b[1;33m     \u001b[1;32mif\u001b[0m \u001b[1;33m(\u001b[0m\u001b[0mi\u001b[0m\u001b[1;33m<\u001b[0m\u001b[1;36m0\u001b[0m \u001b[1;32mor\u001b[0m \u001b[0mi\u001b[0m\u001b[1;33m>\u001b[0m \u001b[0mlen\u001b[0m\u001b[1;33m(\u001b[0m\u001b[0mboard\u001b[0m\u001b[1;33m)\u001b[0m \u001b[1;32mor\u001b[0m \u001b[0mj\u001b[0m\u001b[1;33m<\u001b[0m\u001b[1;36m0\u001b[0m \u001b[1;32mor\u001b[0m \u001b[0mj\u001b[0m\u001b[1;33m>\u001b[0m \u001b[0mlen\u001b[0m\u001b[1;33m(\u001b[0m\u001b[0mboard\u001b[0m\u001b[1;33m[\u001b[0m\u001b[1;36m0\u001b[0m\u001b[1;33m]\u001b[0m\u001b[1;33m)\u001b[0m \u001b[1;32mor\u001b[0m \u001b[0mboard\u001b[0m\u001b[1;33m[\u001b[0m\u001b[0mi\u001b[0m\u001b[1;33m]\u001b[0m\u001b[1;33m[\u001b[0m\u001b[0mj\u001b[0m\u001b[1;33m]\u001b[0m \u001b[1;33m!=\u001b[0m \u001b[1;34m'X'\u001b[0m\u001b[1;33m)\u001b[0m\u001b[1;33m:\u001b[0m\u001b[1;33m\u001b[0m\u001b[1;33m\u001b[0m\u001b[0m\n\u001b[0m\u001b[0;32m     22\u001b[0m         \u001b[1;32mreturn\u001b[0m\u001b[1;33m\u001b[0m\u001b[1;33m\u001b[0m\u001b[0m\n\u001b[0;32m     23\u001b[0m \u001b[1;33m\u001b[0m\u001b[0m\n",
      "\u001b[1;31mIndexError\u001b[0m: list index out of range"
     ]
    }
   ],
   "source": [
    "# 419. Battleships in a Board\n",
    "\n",
    "\n",
    "\n",
    "\n",
    "\n",
    "board = [[\"X\",\".\",\".\",\"X\"],[\".\",\".\",\".\",\"X\"],[\".\",\".\",\".\",\"X\"]]\n",
    "\n",
    "# naiveapproach\n",
    "def count_battelship(board):\n",
    "    co = 0\n",
    "    for i in range(len(board)):\n",
    "        for j in range(len(board[0])):\n",
    "            if (board[i][j] == 'X'):\n",
    "                co += 1\n",
    "                sink_connected(board,i,j)\n",
    "                \n",
    "    return co\n",
    "\n",
    "def sink_connected(board, i, j):\n",
    "    if (i<0 or i> len(board) or j<0 or j> len(board[0]) or board[i][j] != 'X'):\n",
    "        return\n",
    "        \n",
    "    board[i][j] = '.'\n",
    "    sink_connected(board, i+1, j)\n",
    "    sink_connected(board, i-1, j)\n",
    "    sink_connected(board, i, j+1)\n",
    "    sink_connected(board, i, j-1)\n",
    "    \n",
    "count_battelship(board)"
   ]
  },
  {
   "cell_type": "code",
   "execution_count": 24,
   "id": "4b71683e",
   "metadata": {},
   "outputs": [
    {
     "name": "stdout",
     "output_type": "stream",
     "text": [
      "1\n",
      "[1, 2, 3, 4, 89, 6, 7, 8, 9]\n",
      "2\n",
      "[1, 2, 3, 4, 89, 6, 7, 8, 9]\n",
      "3\n",
      "[1, 2, 3, 4, 89, 6, 7, 8, 9]\n",
      "4\n",
      "[1, 2, 3, 4, 89, 6, 7, 8, 9]\n",
      "89\n",
      "[1, 2, 3, 4, 89, 6, 7, 8, 9]\n",
      "6\n",
      "[1, 2, 3, 4, 89, 6, 7, 8, 9]\n",
      "7\n",
      "[1, 2, 3, 4, 89, 6, 7, 8, 9]\n",
      "8\n",
      "[1, 2, 3, 4, 89, 6, 7, 8, 9]\n",
      "9\n",
      "[1, 2, 3, 4, 89, 6, 7, 8, 9]\n"
     ]
    }
   ],
   "source": [
    "l=[1,2,3,4,5,6,7,8,9]\n",
    "for i in l:\n",
    "    print(i)\n",
    "    l[4] =89\n",
    "    print(l)"
   ]
  },
  {
   "cell_type": "code",
   "execution_count": null,
   "id": "e41adcbf",
   "metadata": {},
   "outputs": [],
   "source": []
  },
  {
   "cell_type": "code",
   "execution_count": null,
   "id": "0329013b",
   "metadata": {},
   "outputs": [],
   "source": []
  }
 ],
 "metadata": {
  "kernelspec": {
   "display_name": "Python 3 (ipykernel)",
   "language": "python",
   "name": "python3"
  },
  "language_info": {
   "codemirror_mode": {
    "name": "ipython",
    "version": 3
   },
   "file_extension": ".py",
   "mimetype": "text/x-python",
   "name": "python",
   "nbconvert_exporter": "python",
   "pygments_lexer": "ipython3",
   "version": "3.9.7"
  }
 },
 "nbformat": 4,
 "nbformat_minor": 5
}
