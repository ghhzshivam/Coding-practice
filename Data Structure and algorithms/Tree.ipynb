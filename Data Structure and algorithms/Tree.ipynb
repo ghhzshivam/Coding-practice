{
 "cells": [
  {
   "cell_type": "markdown",
   "metadata": {},
   "source": [
    "# Tree\n",
    "\n",
    "1) Its a nonlinear data structure with hierarchical relationships between its elements. without having any cycle.\n",
    "\n",
    "2) Each node have two components: Data and a link to the subcategory.\n",
    "\n",
    "eg XML and HTML\n",
    "\n",
    "Terminology\n",
    "root: Top node of the tree\n",
    "\n",
    "Edge: Link between parent and child\n",
    "\n",
    "leaf: node which doesn't have a child.\n",
    "\n",
    "sibling: nodes of same parent\n",
    "\n",
    "Ancester: parent, grandparent, and great grndparent.\n",
    "\n",
    "depth of node: length of path from root to node.\n",
    "\n",
    "height of node: length of path from node to deepest node\n",
    "\n",
    "depth of tree: depth of root node\n",
    "\n",
    "height of tree: height of root node\n"
   ]
  },
  {
   "cell_type": "code",
   "execution_count": null,
   "metadata": {},
   "outputs": [],
   "source": [
    "# Basic tree:\n",
    "class treenode:\n",
    "    def __init__(self, date, children = []):\n",
    "        "
   ]
  },
  {
   "cell_type": "code",
   "execution_count": null,
   "metadata": {},
   "outputs": [],
   "source": []
  },
  {
   "cell_type": "code",
   "execution_count": null,
   "metadata": {},
   "outputs": [],
   "source": []
  },
  {
   "cell_type": "code",
   "execution_count": null,
   "metadata": {},
   "outputs": [],
   "source": []
  },
  {
   "cell_type": "code",
   "execution_count": null,
   "metadata": {},
   "outputs": [],
   "source": []
  },
  {
   "cell_type": "code",
   "execution_count": null,
   "metadata": {},
   "outputs": [],
   "source": []
  },
  {
   "cell_type": "code",
   "execution_count": null,
   "metadata": {},
   "outputs": [],
   "source": []
  },
  {
   "cell_type": "code",
   "execution_count": null,
   "metadata": {},
   "outputs": [],
   "source": []
  },
  {
   "cell_type": "code",
   "execution_count": null,
   "metadata": {},
   "outputs": [],
   "source": []
  },
  {
   "cell_type": "code",
   "execution_count": null,
   "metadata": {},
   "outputs": [],
   "source": []
  }
 ],
 "metadata": {
  "language_info": {
   "name": "python"
  },
  "orig_nbformat": 4
 },
 "nbformat": 4,
 "nbformat_minor": 2
}
