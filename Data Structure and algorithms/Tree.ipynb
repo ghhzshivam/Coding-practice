{
 "cells": [
  {
   "cell_type": "markdown",
   "metadata": {},
   "source": [
    "# Tree\n",
    "\n",
    "1) Its a nonlinear data structure with hierarchical relationships between its elements. without having any cycle.\n",
    "\n",
    "2) Each node have two components: Data and a link to the subcategory.\n",
    "\n",
    "eg XML and HTML\n",
    "\n",
    "Terminology\n",
    "root: Top node of the tree\n",
    "\n",
    "Edge: Link between parent and child\n",
    "\n",
    "leaf: node which doesn't have a child.\n",
    "\n",
    "sibling: nodes of same parent\n",
    "\n",
    "Ancester: parent, grandparent, and great grndparent.\n",
    "\n",
    "depth of node: length of path from root to node.\n",
    "\n",
    "height of node: length of path from node to deepest node\n",
    "\n",
    "depth of tree: depth of root node\n",
    "\n",
    "height of tree: height of root node\n"
   ]
  },
  {
   "cell_type": "code",
   "execution_count": 9,
   "metadata": {},
   "outputs": [
    {
     "name": "stdout",
     "output_type": "stream",
     "text": [
      "Drinks\n",
      "   hot\n",
      "   cold\n",
      "\n",
      "Drinks\n",
      "   hot\n",
      "      Tea\n",
      "      Cofee\n",
      "   cold\n",
      "      Coke\n",
      "      Pepsi\n",
      "\n"
     ]
    }
   ],
   "source": [
    "# Basic tree:\n",
    "class treenode:\n",
    "    def __init__(self, data, children = []):\n",
    "        self.data = data\n",
    "        self.children = children\n",
    "\n",
    "    def __str__(self, level = 0):\n",
    "        ret = \" \" * level *3+ str(self.data) + '\\n'\n",
    "        for child in self.children:\n",
    "            ret += child.__str__(level+1)\n",
    "        return ret\n",
    "    \n",
    "    def addChild(self, child):\n",
    "        self.children.append(child)\n",
    "\n",
    "drinks = treenode('Drinks', [])\n",
    "hot = treenode('hot', [])\n",
    "cold = treenode('cold', [])\n",
    "drinks.addChild(hot)\n",
    "drinks.addChild(cold)\n",
    "\n",
    "print(drinks)\n",
    "\n",
    "tea = treenode('Tea', [])\n",
    "cofee = treenode('Cofee', [])\n",
    "coke = treenode('Coke', [])\n",
    "pepsi = treenode('Pepsi', [])\n",
    "\n",
    "hot.addChild(tea)\n",
    "hot.addChild(cofee)\n",
    "cold.addChild(coke)\n",
    "cold.addChild(pepsi)\n",
    "\n",
    "print(drinks)\n"
   ]
  },
  {
   "cell_type": "markdown",
   "metadata": {},
   "source": [
    "# Binary Tree\n",
    "\n",
    "Node have maximum 2 nodes\n",
    "\n",
    "Family of DS (BST, Hep tree, AVL, read black tree, syntax tree)\n",
    "\n",
    "\n",
    "Types:\n",
    "\n",
    "Full: all nodes have 2 or 0 children.\n",
    "\n",
    "perfect binary tree: all nodes have 2 children.\n",
    "\n",
    "complete binary tree: all levels are completely filled except last level.\n",
    "\n",
    "Balance tree: all leaf nodes are located in the smae distance from root node.\n"
   ]
  },
  {
   "cell_type": "code",
   "execution_count": null,
   "metadata": {},
   "outputs": [],
   "source": []
  },
  {
   "cell_type": "code",
   "execution_count": null,
   "metadata": {},
   "outputs": [],
   "source": []
  },
  {
   "cell_type": "code",
   "execution_count": null,
   "metadata": {},
   "outputs": [],
   "source": []
  },
  {
   "cell_type": "code",
   "execution_count": null,
   "metadata": {},
   "outputs": [],
   "source": []
  },
  {
   "cell_type": "code",
   "execution_count": null,
   "metadata": {},
   "outputs": [],
   "source": []
  },
  {
   "cell_type": "code",
   "execution_count": null,
   "metadata": {},
   "outputs": [],
   "source": []
  },
  {
   "cell_type": "code",
   "execution_count": null,
   "metadata": {},
   "outputs": [],
   "source": []
  },
  {
   "cell_type": "code",
   "execution_count": null,
   "metadata": {},
   "outputs": [],
   "source": []
  },
  {
   "cell_type": "code",
   "execution_count": null,
   "metadata": {},
   "outputs": [],
   "source": []
  }
 ],
 "metadata": {
  "kernelspec": {
   "display_name": "base",
   "language": "python",
   "name": "python3"
  },
  "language_info": {
   "codemirror_mode": {
    "name": "ipython",
    "version": 3
   },
   "file_extension": ".py",
   "mimetype": "text/x-python",
   "name": "python",
   "nbconvert_exporter": "python",
   "pygments_lexer": "ipython3",
   "version": "3.9.7"
  },
  "orig_nbformat": 4
 },
 "nbformat": 4,
 "nbformat_minor": 2
}
