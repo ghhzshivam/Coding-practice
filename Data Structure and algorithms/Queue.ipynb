{
 "cells": [
  {
   "cell_type": "markdown",
   "metadata": {},
   "source": [
    "# Queue using list"
   ]
  },
  {
   "cell_type": "markdown",
   "metadata": {},
   "source": [
    "1) FIFO(First In First Out)\n",
    "2) Applications - resturant lines, printer\n",
    "3) Operation -\n",
    "    a) Create Queue\n",
    "\n",
    "    b) Enqueue\n",
    "\n",
    "    c) Dequeue\n",
    "\n",
    "    d) peek\n",
    "\n",
    "    e) Isempty\n",
    "\n",
    "    f) isfull\n",
    "\n",
    "    g) deletequeue\n",
    "\n",
    "1) Python List (O(n) for enqueue and dequeue)\n",
    "\n",
    "    a) Queue without capacity\n",
    "\n",
    "    b) Queue with capacity(Circular queue)\n",
    "\n",
    "2) Linked list\n"
   ]
  },
  {
   "cell_type": "code",
   "execution_count": 10,
   "metadata": {},
   "outputs": [
    {
     "name": "stdout",
     "output_type": "stream",
     "text": [
      "3 4 5 6\n",
      "5 6\n"
     ]
    },
    {
     "data": {
      "text/plain": [
       "'Empty queue'"
      ]
     },
     "execution_count": 10,
     "metadata": {},
     "output_type": "execute_result"
    }
   ],
   "source": [
    "# Queue Python\n",
    "\n",
    "class Queue:\n",
    "    def __init__(self):\n",
    "        self.items = []\n",
    "\n",
    "    def __str__(self):\n",
    "        values = [str(x) for x in self.items]\n",
    "        return ' '.join(values)\n",
    "    \n",
    "    def isempty(self):\n",
    "        if self.items == []:\n",
    "            return True\n",
    "        else:\n",
    "            return False\n",
    "        \n",
    "    def enqueue(self, value):\n",
    "        # O(n^2/n) space(O(n))\n",
    "        self.items.append(value)\n",
    "        return f\"{value} Added in the queue\"\n",
    "    \n",
    "    def dequeue(self):\n",
    "        # O(n)\n",
    "        if self.isempty():\n",
    "            return \"Empty queue\"\n",
    "        else:\n",
    "            return self.items.pop(0)\n",
    "\n",
    "    def peek(self):\n",
    "        if self.isempty():\n",
    "            return \"Empty queue\"\n",
    "        else:\n",
    "            return self.items[0]\n",
    "\n",
    "    def delete(self):\n",
    "        self.items = []\n",
    "        return \"Empty queue\"\n",
    "\n",
    "q = Queue()\n",
    "q.enqueue(3)\n",
    "q.enqueue(4)\n",
    "q.enqueue(5)\n",
    "q.enqueue(6)\n",
    "print(q)\n",
    "q.dequeue()\n",
    "q.dequeue()\n",
    "print(q)\n",
    "q.peek()\n",
    "q.delete()"
   ]
  },
  {
   "cell_type": "code",
   "execution_count": 35,
   "metadata": {},
   "outputs": [
    {
     "name": "stdout",
     "output_type": "stream",
     "text": [
      "False\n",
      "True\n",
      "4 added to the circular queue\n",
      "Overflowed\n",
      "2 3 4\n",
      "3 removed to the circular queue\n",
      "4\n",
      "Queue deleted\n"
     ]
    }
   ],
   "source": [
    "# Circular Queue\n",
    "# time O(1) for all\n",
    "# space O(n) for creation except this O(1) for all \n",
    "\n",
    "class CircularQueue:\n",
    "    def __init__(self, maxsize):\n",
    "        self.items = maxsize * [None]\n",
    "        self.maxsize = maxsize\n",
    "        self.start = -1\n",
    "        self.top =-1\n",
    "\n",
    "    def __str__(self):\n",
    "        values = [str(i) for i in self.items]\n",
    "        return ' '.join(values)\n",
    "\n",
    "    def isfull(self):\n",
    "        if self.top+1 == self.start:\n",
    "            return True\n",
    "        elif self.start == 0 and self.top+1 == self.maxsize:\n",
    "            return True\n",
    "        else:\n",
    "            return False\n",
    "         \n",
    "    def isempty(self):\n",
    "        if self.top == -1:\n",
    "            return True\n",
    "        else:\n",
    "            return False\n",
    "\n",
    "    def enqueue(self, value):\n",
    "        if self.isfull():\n",
    "            return \"Overflowed\"\n",
    "        else:\n",
    "            if self.top == self.maxsize:\n",
    "                self.top = 0\n",
    "            else:\n",
    "                self.top += 1\n",
    "                if self.start == -1:\n",
    "                    self.start = 0\n",
    "            self.items[self.top] = value\n",
    "            return f\"{value} added to the circular queue\"\n",
    "\n",
    "    def dequeue(self):\n",
    "        if self.isempty():\n",
    "            return \"Overflowed\"\n",
    "        else:\n",
    "            value = self.items[self.start] \n",
    "            start = self.start\n",
    "            if self.start == self.top:\n",
    "                self.start = -1\n",
    "                self.top = -1\n",
    "            elif self.start == self.maxsize:\n",
    "                self.start = 0            \n",
    "            else:\n",
    "                self.start += 1\n",
    "            self.items[start] = None\n",
    "            return f\"{value} removed to the circular queue\"\n",
    "\n",
    "    def peek(self):\n",
    "        if self.isempty():\n",
    "            return \"Empty list\"\n",
    "        else:\n",
    "            return self.items[self.start]\n",
    "\n",
    "    def delete(self):\n",
    "        self.items = self.maxsize * [None]\n",
    "        self.start = -1\n",
    "        self.top = -1\n",
    "        return \"Queue deleted\"\n",
    "\n",
    "cq = CircularQueue(maxsize = 3)\n",
    "print(cq.isfull())\n",
    "print(cq.isempty())\n",
    "cq.enqueue(2)\n",
    "cq.enqueue(3)\n",
    "print(cq.enqueue(4))\n",
    "print(cq.enqueue(5))\n",
    "print(cq)\n",
    "cq.dequeue()\n",
    "print(cq.dequeue())\n",
    "print(cq.peek())\n",
    "print(cq.delete())"
   ]
  },
  {
   "cell_type": "markdown",
   "metadata": {},
   "source": [
    "# Queue using Linked List"
   ]
  },
  {
   "cell_type": "code",
   "execution_count": null,
   "metadata": {},
   "outputs": [],
   "source": []
  },
  {
   "cell_type": "code",
   "execution_count": null,
   "metadata": {},
   "outputs": [],
   "source": []
  },
  {
   "cell_type": "code",
   "execution_count": null,
   "metadata": {},
   "outputs": [],
   "source": []
  },
  {
   "cell_type": "code",
   "execution_count": null,
   "metadata": {},
   "outputs": [],
   "source": []
  },
  {
   "cell_type": "code",
   "execution_count": null,
   "metadata": {},
   "outputs": [],
   "source": []
  },
  {
   "cell_type": "code",
   "execution_count": null,
   "metadata": {},
   "outputs": [],
   "source": []
  },
  {
   "cell_type": "code",
   "execution_count": null,
   "metadata": {},
   "outputs": [],
   "source": []
  },
  {
   "cell_type": "code",
   "execution_count": null,
   "metadata": {},
   "outputs": [],
   "source": []
  }
 ],
 "metadata": {
  "kernelspec": {
   "display_name": "base",
   "language": "python",
   "name": "python3"
  },
  "language_info": {
   "codemirror_mode": {
    "name": "ipython",
    "version": 3
   },
   "file_extension": ".py",
   "mimetype": "text/x-python",
   "name": "python",
   "nbconvert_exporter": "python",
   "pygments_lexer": "ipython3",
   "version": "3.9.7"
  },
  "orig_nbformat": 4
 },
 "nbformat": 4,
 "nbformat_minor": 2
}
