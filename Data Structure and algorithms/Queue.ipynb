{
 "cells": [
  {
   "cell_type": "markdown",
   "metadata": {},
   "source": [
    "# Queue"
   ]
  },
  {
   "cell_type": "markdown",
   "metadata": {},
   "source": [
    "1) FIFO(First In First Out)\n",
    "2) Applications - resturant lines, printer\n",
    "3) Operation -\n",
    "    a) Create Queue\n",
    "\n",
    "    b) Enqueue\n",
    "\n",
    "    c) Dequeue\n",
    "\n",
    "    d) peek\n",
    "\n",
    "    e) Isempty\n",
    "\n",
    "    f) isfull\n",
    "\n",
    "    g) deletequeue\n",
    "\n",
    "1) Python List (O(n) for enqueue and dequeue)\n",
    "\n",
    "    a) Queue without capacity\n",
    "\n",
    "    b) Queue with capacity(Circular queue)\n",
    "\n",
    "2) Linked list\n"
   ]
  },
  {
   "cell_type": "code",
   "execution_count": 10,
   "metadata": {},
   "outputs": [
    {
     "name": "stdout",
     "output_type": "stream",
     "text": [
      "3 4 5 6\n",
      "5 6\n"
     ]
    },
    {
     "data": {
      "text/plain": [
       "'Empty queue'"
      ]
     },
     "execution_count": 10,
     "metadata": {},
     "output_type": "execute_result"
    }
   ],
   "source": [
    "# Queue Python\n",
    "\n",
    "class Queue:\n",
    "    def __init__(self):\n",
    "        self.items = []\n",
    "\n",
    "    def __str__(self):\n",
    "        values = [str(x) for x in self.items]\n",
    "        return ' '.join(values)\n",
    "    \n",
    "    def isempty(self):\n",
    "        if self.items == []:\n",
    "            return True\n",
    "        else:\n",
    "            return False\n",
    "        \n",
    "    def enqueue(self, value):\n",
    "        # O(n^2/n) space(O(n))\n",
    "        self.items.append(value)\n",
    "        return f\"{value} Added in the queue\"\n",
    "    \n",
    "    def dequeue(self):\n",
    "        # O(n)\n",
    "        if self.isempty():\n",
    "            return \"Empty queue\"\n",
    "        else:\n",
    "            return self.items.pop(0)\n",
    "\n",
    "    def peek(self):\n",
    "        if self.isempty():\n",
    "            return \"Empty queue\"\n",
    "        else:\n",
    "            return self.items[0]\n",
    "\n",
    "    def delete(self):\n",
    "        self.items = []\n",
    "        return \"Empty queue\"\n",
    "\n",
    "q = Queue()\n",
    "q.enqueue(3)\n",
    "q.enqueue(4)\n",
    "q.enqueue(5)\n",
    "q.enqueue(6)\n",
    "print(q)\n",
    "q.dequeue()\n",
    "q.dequeue()\n",
    "print(q)\n",
    "q.peek()\n",
    "q.delete()"
   ]
  },
  {
   "cell_type": "code",
   "execution_count": 11,
   "metadata": {},
   "outputs": [
    {
     "data": {
      "text/plain": [
       "False"
      ]
     },
     "execution_count": 11,
     "metadata": {},
     "output_type": "execute_result"
    }
   ],
   "source": [
    "# Circular Queue\n",
    "\n",
    "class CircularQueue:\n",
    "    def __init__(self, maxsize):\n",
    "        self.items = maxsize * [None]\n",
    "        self.maxsize = maxsize\n",
    "        self.start = -1\n",
    "        self.top =-1\n",
    "\n",
    "    def __str__(self):\n",
    "        values = [str(i) for i in self.items]\n",
    "        return ' '.join(values)\n",
    "\n",
    "    def isfull(self):\n",
    "        if self.top+1 == self.start:\n",
    "            return True\n",
    "        elif self.top == 0 and self.start == self.maxsize:\n",
    "            return True\n",
    "        else:\n",
    "            return False\n",
    "         \n",
    "    def isempty(self):\n",
    "        if self.top == -1:\n",
    "            return True\n",
    "        else:\n",
    "            return False\n",
    "\n",
    "    def enqueue(self, value):\n",
    "        # if self.\n",
    "\n",
    "cq = CircularQueue(maxsize = 3)\n",
    "cq.isfull()\n"
   ]
  },
  {
   "cell_type": "code",
   "execution_count": null,
   "metadata": {},
   "outputs": [],
   "source": []
  },
  {
   "cell_type": "code",
   "execution_count": null,
   "metadata": {},
   "outputs": [],
   "source": []
  },
  {
   "cell_type": "code",
   "execution_count": null,
   "metadata": {},
   "outputs": [],
   "source": []
  },
  {
   "cell_type": "code",
   "execution_count": null,
   "metadata": {},
   "outputs": [],
   "source": []
  },
  {
   "cell_type": "code",
   "execution_count": null,
   "metadata": {},
   "outputs": [],
   "source": []
  },
  {
   "cell_type": "code",
   "execution_count": null,
   "metadata": {},
   "outputs": [],
   "source": []
  },
  {
   "cell_type": "code",
   "execution_count": null,
   "metadata": {},
   "outputs": [],
   "source": []
  },
  {
   "cell_type": "code",
   "execution_count": null,
   "metadata": {},
   "outputs": [],
   "source": []
  }
 ],
 "metadata": {
  "kernelspec": {
   "display_name": "base",
   "language": "python",
   "name": "python3"
  },
  "language_info": {
   "codemirror_mode": {
    "name": "ipython",
    "version": 3
   },
   "file_extension": ".py",
   "mimetype": "text/x-python",
   "name": "python",
   "nbconvert_exporter": "python",
   "pygments_lexer": "ipython3",
   "version": "3.9.7"
  },
  "orig_nbformat": 4
 },
 "nbformat": 4,
 "nbformat_minor": 2
}
