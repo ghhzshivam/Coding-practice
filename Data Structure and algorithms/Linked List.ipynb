{
 "cells": [
  {
   "attachments": {},
   "cell_type": "markdown",
   "metadata": {},
   "source": [
    "# Linked List\n",
    "\n",
    "1) O(1) time and O(1) Size complexity for creating one node\n",
    "2) Node class out of linked list class as no shows an instance with only data and value\n"
   ]
  },
  {
   "cell_type": "code",
   "execution_count": 2,
   "metadata": {},
   "outputs": [],
   "source": [
    "class node:\n",
    "    def __init__(self, data):\n",
    "        self.data = data\n",
    "        self.next = None"
   ]
  },
  {
   "cell_type": "code",
   "execution_count": 25,
   "metadata": {},
   "outputs": [],
   "source": [
    "class LinkedList:\n",
    "    def __init__(self):\n",
    "        self.head = None\n",
    "        self.tail = None\n",
    "        self.length = 0\n",
    "\n",
    "    def __str__(self):\n",
    "        \"\"\"\n",
    "        Ispecial class representation for string. So whenever print class it shows f\" in here rather than objet\n",
    "        \"\"\"\n",
    "        temp_node = self.head\n",
    "        result = ''\n",
    "        while temp_node is not None:\n",
    "            result +=  str(temp_node.data)\n",
    "            if temp_node.next is not None:\n",
    "                result += ' -> '\n",
    "            temp_node = temp_node.next\n",
    "        return result\n",
    "\n",
    "    def append(self, data):\n",
    "        new_node = node(data)\n",
    "\n",
    "        if self.head == None:\n",
    "            self.head = new_node\n",
    "            self.tail = new_node\n",
    "        else:\n",
    "            self.tail.next = new_node\n",
    "            self.tail = new_node\n",
    "        \n",
    "        self.length += 1\n",
    "\n",
    "    def prepend(self, data):\n",
    "        new_node = node(data)\n",
    "\n",
    "        if self.head is None:\n",
    "            self.head = new_node\n",
    "            self.tail = new_node\n",
    "        else:\n",
    "            new_node.next = self.head\n",
    "            self.head = new_node\n",
    "        self.length += 1\n",
    "\n",
    "    def insert(self, ind, val):\n",
    "        \"\"\"\n",
    "        Insert at loc according to pthon list\n",
    "        \"\"\"\n",
    "        new_node = node(val)\n",
    "\n",
    "        if ind<0 or ind > self.length:\n",
    "            return False\n",
    "        elif ind ==0:\n",
    "            new_node.next = self.head\n",
    "            self.head = new_node\n",
    "        else:\n",
    "            temp = self.head\n",
    "            for _ in range(ind-1):\n",
    "                temp = temp.next\n",
    "            new_node.next = temp.next\n",
    "            temp.next = new_node\n",
    "        self.length += 1\n",
    "\n",
    "    def traverse(self):\n",
    "        temp = self.head\n",
    "        while temp is not None:\n",
    "            print(temp.data)\n",
    "            temp = temp.next\n",
    "\n",
    "    def search(self, val):\n",
    "        temp = self.head\n",
    "        ind= 0\n",
    "        while temp is not None:\n",
    "            if temp.data == val:\n",
    "                print(temp.data, ind)\n",
    "                return ind\n",
    "            temp = temp.next\n",
    "            ind += 1\n",
    "        return False\n",
    "\n",
    "    # def add()"
   ]
  },
  {
   "cell_type": "code",
   "execution_count": 26,
   "metadata": {},
   "outputs": [
    {
     "name": "stdout",
     "output_type": "stream",
     "text": [
      "21 -> 23 -> 24 -> 25 -> 26 -> 28 -> 29 -> 12\n",
      "21 -> 23 -> 24 -> 3 -> 25 -> 26 -> 28 -> 29 -> 12\n"
     ]
    }
   ],
   "source": [
    "ll = LinkedList()\n",
    "ll.append(23)\n",
    "ll.append(24)\n",
    "ll.append(25)\n",
    "ll.append(26)\n",
    "ll.append(28)\n",
    "ll.append(29)\n",
    "ll.append(12)\n",
    "ll.prepend(21)\n",
    "print(ll)\n",
    "ll.insert(3,3)\n",
    "print(ll)"
   ]
  },
  {
   "cell_type": "code",
   "execution_count": 27,
   "metadata": {},
   "outputs": [
    {
     "name": "stdout",
     "output_type": "stream",
     "text": [
      "25 4\n"
     ]
    },
    {
     "data": {
      "text/plain": [
       "4"
      ]
     },
     "execution_count": 27,
     "metadata": {},
     "output_type": "execute_result"
    }
   ],
   "source": [
    "ll.search(25)"
   ]
  },
  {
   "cell_type": "code",
   "execution_count": null,
   "metadata": {},
   "outputs": [],
   "source": []
  },
  {
   "cell_type": "code",
   "execution_count": null,
   "metadata": {},
   "outputs": [],
   "source": [
    "Linked LIst"
   ]
  }
 ],
 "metadata": {
  "kernelspec": {
   "display_name": "base",
   "language": "python",
   "name": "python3"
  },
  "language_info": {
   "codemirror_mode": {
    "name": "ipython",
    "version": 3
   },
   "file_extension": ".py",
   "mimetype": "text/x-python",
   "name": "python",
   "nbconvert_exporter": "python",
   "pygments_lexer": "ipython3",
   "version": "3.9.7"
  },
  "orig_nbformat": 4
 },
 "nbformat": 4,
 "nbformat_minor": 2
}
