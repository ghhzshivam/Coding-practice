{
 "cells": [
  {
   "cell_type": "code",
   "execution_count": null,
   "metadata": {},
   "outputs": [],
   "source": [
    "# 1683. Invalid Tweets\n",
    "# Write a solution to find the IDs of the invalid tweets. The tweet is invalid if the number of characters used in the content of the tweet is strictly greater than 15.\n",
    "# 1) \n",
    "tweets.loc[tweets['content'].str.len()  >=16, ['tweet_id']]\n",
    "\n",
    "#2) \n",
    "df = tweets[tweets['content'].str.len()  >=16]\n",
    "tweets[['tweet_id']]"
   ]
  },
  {
   "cell_type": "code",
   "execution_count": null,
   "metadata": {},
   "outputs": [],
   "source": [
    "# 595. Big Countries\n",
    "# Table: World\n",
    "\n",
    "# +-------------+---------+\n",
    "# | Column Name | Type    |\n",
    "# +-------------+---------+\n",
    "# | name        | varchar |\n",
    "# | continent   | varchar |\n",
    "# | area        | int     |\n",
    "# | population  | int     |\n",
    "# | gdp         | bigint  |\n",
    "# +-------------+---------+\n",
    "# name is the primary key (column with unique values) for this table.\n",
    "# Each row of this table gives information about the name of a country, the continent to which it belongs, its area, the population, and its GDP value.\n",
    " \n",
    "\n",
    "# A country is big if:\n",
    "\n",
    "# it has an area of at least three million (i.e., 3000000 km2), or\n",
    "# it has a population of at least twenty-five million (i.e., 25000000).\n",
    "\n",
    "df = world[(world['area'] >= 3000000) | (world['population'] >= 25000000)]\n",
    "    return df[['name', 'population', 'area']]"
   ]
  },
  {
   "cell_type": "code",
   "execution_count": null,
   "metadata": {},
   "outputs": [],
   "source": [
    "# 1148. Article Views I\n",
    "\n",
    "# Table: Views\n",
    "\n",
    "# +---------------+---------+\n",
    "# | Column Name   | Type    |\n",
    "# +---------------+---------+\n",
    "# | article_id    | int     |\n",
    "# | author_id     | int     |\n",
    "# | viewer_id     | int     |\n",
    "# | view_date     | date    |\n",
    "# +---------------+---------+\n",
    "# There is no primary key (column with unique values) for this table, the table may have duplicate rows.\n",
    "# Each row of this table indicates that some viewer viewed an article (written by some author) on some date. \n",
    "# Note that equal author_id and viewer_id indicate the same person.\n",
    " \n",
    "\n",
    "# Write a solution to find all the authors that viewed at least one of their own articles.\n",
    "\n",
    "# Return the result table sorted by id in ascending order.\n",
    "\n",
    "\n",
    "def article_views(views: pd.DataFrame) -> pd.DataFrame:\n",
    "    return views.loc[\n",
    "      views['author_id'] ==views['viewer_id'], ['author_id']\n",
    "    ].drop_duplicates().rename(columns = {'author_id' : 'id',}\n",
    "      ).sort_values(by = ['id'])"
   ]
  },
  {
   "cell_type": "code",
   "execution_count": null,
   "metadata": {},
   "outputs": [],
   "source": []
  },
  {
   "cell_type": "code",
   "execution_count": null,
   "metadata": {},
   "outputs": [],
   "source": []
  },
  {
   "cell_type": "code",
   "execution_count": null,
   "metadata": {},
   "outputs": [],
   "source": []
  },
  {
   "cell_type": "code",
   "execution_count": null,
   "metadata": {},
   "outputs": [],
   "source": []
  },
  {
   "cell_type": "code",
   "execution_count": null,
   "metadata": {},
   "outputs": [],
   "source": []
  },
  {
   "cell_type": "code",
   "execution_count": null,
   "metadata": {},
   "outputs": [],
   "source": []
  },
  {
   "cell_type": "code",
   "execution_count": null,
   "metadata": {},
   "outputs": [],
   "source": []
  },
  {
   "cell_type": "code",
   "execution_count": null,
   "metadata": {},
   "outputs": [],
   "source": []
  },
  {
   "cell_type": "code",
   "execution_count": null,
   "metadata": {},
   "outputs": [],
   "source": []
  },
  {
   "cell_type": "code",
   "execution_count": null,
   "metadata": {},
   "outputs": [],
   "source": []
  },
  {
   "cell_type": "code",
   "execution_count": null,
   "metadata": {},
   "outputs": [],
   "source": []
  },
  {
   "cell_type": "code",
   "execution_count": null,
   "metadata": {},
   "outputs": [],
   "source": []
  },
  {
   "cell_type": "code",
   "execution_count": null,
   "metadata": {},
   "outputs": [],
   "source": []
  },
  {
   "cell_type": "code",
   "execution_count": null,
   "metadata": {},
   "outputs": [],
   "source": []
  },
  {
   "cell_type": "code",
   "execution_count": null,
   "metadata": {},
   "outputs": [],
   "source": []
  }
 ],
 "metadata": {
  "language_info": {
   "name": "python"
  },
  "orig_nbformat": 4
 },
 "nbformat": 4,
 "nbformat_minor": 2
}
