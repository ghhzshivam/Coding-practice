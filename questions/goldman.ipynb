{
 "cells": [
  {
   "cell_type": "code",
   "execution_count": 1,
   "metadata": {},
   "outputs": [],
   "source": [
    "# 2513. Minimize the Maximum of Two Arrays\n",
    "\n",
    "# We have two arrays arr1 and arr2 which are initially empty. You need to add positive integers to them such that they satisfy all the following conditions:\n",
    "\n",
    "# arr1 contains uniqueCnt1 distinct positive integers, each of which is not divisible by divisor1.\n",
    "# arr2 contains uniqueCnt2 distinct positive integers, each of which is not divisible by divisor2.\n",
    "# No integer is present in both arr1 and arr2.\n",
    "# Given divisor1, divisor2, uniqueCnt1, and uniqueCnt2, return the minimum possible maximum integer that can be present in either array.\n",
    "\n",
    " \n",
    "\n",
    "# Example 1:\n",
    "\n",
    "# Input: divisor1 = 2, divisor2 = 7, uniqueCnt1 = 1, uniqueCnt2 = 3\n",
    "# Output: 4\n",
    "# Explanation: \n",
    "# We can distribute the first 4 natural numbers into arr1 and arr2.\n",
    "# arr1 = [1] and arr2 = [2,3,4].\n",
    "# We can see that both arrays satisfy all the conditions.\n",
    "# Since the maximum value is 4, we return it.\n",
    "# Example 2:\n",
    "\n",
    "# Input: divisor1 = 3, divisor2 = 5, uniqueCnt1 = 2, uniqueCnt2 = 1\n",
    "# Output: 3\n",
    "# Explanation: \n",
    "# Here arr1 = [1,2], and arr2 = [3] satisfy all conditions.\n",
    "# Since the maximum value is 3, we return it.\n",
    "# Example 3:\n",
    "\n",
    "# Input: divisor1 = 2, divisor2 = 4, uniqueCnt1 = 8, uniqueCnt2 = 2\n",
    "# Output: 15\n",
    "# Explanation: \n",
    "# Here, the final possible arrays can be arr1 = [1,3,5,7,9,11,13,15], and arr2 = [2,6].\n",
    "# It can be shown that it is not possible to obtain a lower maximum satisfying all conditions. "
   ]
  },
  {
   "cell_type": "code",
   "execution_count": 35,
   "metadata": {},
   "outputs": [
    {
     "name": "stdout",
     "output_type": "stream",
     "text": [
      "a2, added in 1st elif 1\n",
      "a2, added in 1st elif 2\n",
      "a2, added in 1st elif 3\n",
      "a1, added in 1st if- elif 4\n",
      "a1, added in 1st if- elif 8\n",
      "a1, added in 1st if- elif 12\n",
      "[4, 5, 6, 7, 8, 10, 11, 12] [1, 2, 3] 13\n",
      "12\n"
     ]
    }
   ],
   "source": [
    "# divisor1 = 2\n",
    "# divisor2 = 7 \n",
    "# uniqueCnt1 = 1\n",
    "# uniqueCnt2 = 3\n",
    "divisor1 = 9\n",
    "divisor2 = 4\n",
    "uniqueCnt1 = 8\n",
    "uniqueCnt2 = 3\n",
    "\n",
    "\n",
    "a1 = []\n",
    "a2 = []\n",
    "i = 1\n",
    "\n",
    "# if divisor1 == divisor2:\n",
    "#     for i in range(1, uniqueCnt2*uniqueCnt1):\n",
    "#         if i%divisor1 != 0:\n",
    "#             a1.append(i)\n",
    "#         if len(a1)  == (uniqueCnt1+uniqueCnt2):\n",
    "#             print(i)\n",
    "#             break\n",
    "\n",
    "while (uniqueCnt1 > 0 or uniqueCnt2 > 0):\n",
    "    if i%divisor1 != 0 and i%divisor2 !=0:\n",
    "        if divisor1<divisor2 and uniqueCnt1 >0:\n",
    "            a1.append(i)\n",
    "            uniqueCnt1 -= 1\n",
    "            print(f\"a1, added in 1st if {i}\")\n",
    "        elif uniqueCnt2 > 0:\n",
    "            a2.append(i)\n",
    "            uniqueCnt2 -= 1\n",
    "            print(f\"a2, added in 1st elif {i}\")\n",
    "        else:\n",
    "            a1.append(i)\n",
    "            uniqueCnt1 -= 1\n",
    "    elif i%divisor1 != 0 and uniqueCnt1 >0:\n",
    "        a1.append(i)\n",
    "        uniqueCnt1 -= 1\n",
    "        print(f\"a1, added in 1st if- elif {i}\")\n",
    "    elif i%divisor2 != 0 and uniqueCnt2 >0:\n",
    "        a2.append(i)\n",
    "        uniqueCnt2 -= 1\n",
    "        print(f\"a2, added in  {i}\")\n",
    "    else:\n",
    "        pass\n",
    "    # print(uniqueCnt1, uniqueCnt2)\n",
    "    i += 1\n",
    "print(a1, a2, i)\n",
    "print(max(max(a1), max(a2)))\n"
   ]
  },
  {
   "cell_type": "code",
   "execution_count": 11,
   "metadata": {},
   "outputs": [
    {
     "data": {
      "text/plain": [
       "[]"
      ]
     },
     "execution_count": 11,
     "metadata": {},
     "output_type": "execute_result"
    }
   ],
   "source": [
    "\n",
    "a2"
   ]
  },
  {
   "cell_type": "code",
   "execution_count": 1,
   "metadata": {},
   "outputs": [],
   "source": [
    "# 2933. High-Access Employees\n",
    "\n",
    "# You are given a 2D 0-indexed array of strings, access_times, with size n. For each i where 0 <= i <= n - 1, access_times[i][0] represents the name of an employee, and access_times[i][1] represents the access time of that employee. All entries in access_times are within the same day.\n",
    "\n",
    "# The access time is represented as four digits using a 24-hour time format, for example, \"0800\" or \"2250\".\n",
    "\n",
    "# An employee is said to be high-access if he has accessed the system three or more times within a one-hour period.\n",
    "\n",
    "# Times with exactly one hour of difference are not considered part of the same one-hour period. For example, \"0815\" and \"0915\" are not part of the same one-hour period.\n",
    "\n",
    "# Access times at the start and end of the day are not counted within the same one-hour period. For example, \"0005\" and \"2350\" are not part of the same one-hour period.\n",
    "\n",
    "# Return a list that contains the names of high-access employees with any order you want.\n",
    "\n",
    "# Input: access_times = [[\"cd\",\"1025\"],[\"ab\",\"1025\"],[\"cd\",\"1046\"],[\"cd\",\"1055\"],[\"ab\",\"1124\"],[\"ab\",\"1120\"]]\n",
    "# Output: [\"ab\",\"cd\"]\n",
    "# Explanation: \"ab\" has three access times in the one-hour period of [10:25, 11:24] which are 10:25, 11:20, and 11:24.\n",
    "# \"cd\" has also three access times in the one-hour period of [10:25, 11:24] which are 10:25, 10:46, and 10:55.\n",
    "# So the answer is [\"ab\",\"cd\"].\n",
    "\n",
    "# access_times = [[\"a\",\"0549\"],[\"b\",\"0457\"],[\"a\",\"0532\"],[\"a\",\"0621\"],[\"b\",\"0540\"]]\n",
    "# access_times = [[\"d\",\"0002\"],[\"c\",\"0808\"],[\"c\",\"0829\"],[\"e\",\"0215\"],[\"d\",\"1508\"],[\"d\",\"1444\"],[\"d\",\"1410\"],[\"c\",\"0809\"]]\n",
    "access_times = [[\"cd\",\"1025\"],[\"ab\",\"1025\"],[\"cd\",\"1046\"],[\"cd\",\"1055\"],[\"ab\",\"1124\"],[\"ab\",\"1120\"]]\n",
    "\n",
    "res = []\n",
    "seen_list = []\n",
    "for i in range(len(access_times)):\n",
    "     if access_times[i] not in seen_list:\n",
    "        seen_list.append(access_times[i][0])\n",
    "        access = [int(access_times[i][1])]\n",
    "        for j in range(i+1, len(access_times)):\n",
    "            if access_times[j][0] == access_times[i][0]:\n",
    "                access.append(int(access_times[j][1]))\n",
    "        access.sort()   \n",
    "        if len(access)>=3:\n",
    "            for j in range(len(access)-2):\n",
    "                if access[j+1] < access[j]+100 and access[j+2] < access[j]+100 :\n",
    "                    if access_times[i][0] not in res:\n",
    "                        res.append(access_times[i][0])\n",
    "\n",
    "res.sort()\n",
    "res"
   ]
  },
  {
   "cell_type": "code",
   "execution_count": 25,
   "metadata": {},
   "outputs": [
    {
     "data": {
      "text/plain": [
       "['ab', 'cd']"
      ]
     },
     "execution_count": 25,
     "metadata": {},
     "output_type": "execute_result"
    }
   ],
   "source": [
    "# access_times = [[\"a\",\"0549\"],[\"b\",\"0457\"],[\"a\",\"0532\"],[\"a\",\"0621\"],[\"b\",\"0540\"]]\n",
    "# access_times = [[\"d\",\"0002\"],[\"c\",\"0808\"],[\"c\",\"0829\"],[\"e\",\"0215\"],[\"d\",\"1508\"],[\"d\",\"1444\"],[\"d\",\"1410\"],[\"c\",\"0809\"]]\n",
    "access_times = [[\"cd\",\"1025\"],[\"ab\",\"1025\"],[\"cd\",\"1046\"],[\"cd\",\"1055\"],[\"ab\",\"1124\"],[\"ab\",\"1120\"]]\n",
    "\n",
    "res = []\n",
    "seen_list = []\n",
    "for i in range(len(access_times)):\n",
    "     if access_times[i] not in seen_list:\n",
    "        seen_list.append(access_times[i][0])\n",
    "        access = [int(access_times[i][1])]\n",
    "        for j in range(i+1, len(access_times)):\n",
    "            if access_times[j][0] == access_times[i][0]:\n",
    "                access.append(int(access_times[j][1]))\n",
    "        access.sort()   \n",
    "        if len(access)>=3:\n",
    "            for j in range(len(access)-2):\n",
    "                if access[j+1] < access[j]+100 and access[j+2] < access[j]+100 :\n",
    "                    if access_times[i][0] not in res:\n",
    "                        res.append(access_times[i][0])\n",
    "\n",
    "res.sort()\n",
    "res"
   ]
  },
  {
   "cell_type": "code",
   "execution_count": 5,
   "metadata": {},
   "outputs": [],
   "source": [
    "access_times = [[\"a\",\"0549\"],[\"b\",\"0457\"],[\"a\",\"0532\"],[\"a\",\"0621\"],[\"b\",\"0540\"]]"
   ]
  },
  {
   "cell_type": "code",
   "execution_count": 6,
   "metadata": {},
   "outputs": [
    {
     "data": {
      "text/plain": [
       "'0549'"
      ]
     },
     "execution_count": 6,
     "metadata": {},
     "output_type": "execute_result"
    }
   ],
   "source": [
    "access_times[0][1]"
   ]
  },
  {
   "cell_type": "code",
   "execution_count": null,
   "metadata": {},
   "outputs": [],
   "source": []
  }
 ],
 "metadata": {
  "kernelspec": {
   "display_name": "base",
   "language": "python",
   "name": "python3"
  },
  "language_info": {
   "codemirror_mode": {
    "name": "ipython",
    "version": 3
   },
   "file_extension": ".py",
   "mimetype": "text/x-python",
   "name": "python",
   "nbconvert_exporter": "python",
   "pygments_lexer": "ipython3",
   "version": "3.9.7"
  }
 },
 "nbformat": 4,
 "nbformat_minor": 2
}
