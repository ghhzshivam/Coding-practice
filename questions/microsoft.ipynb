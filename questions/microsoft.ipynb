{
 "cells": [
  {
   "cell_type": "code",
   "execution_count": 18,
   "metadata": {},
   "outputs": [
    {
     "name": "stdout",
     "output_type": "stream",
     "text": [
      "[[137, 141, 137], [141, 138, 141], [137, 141, 137]]\n"
     ]
    }
   ],
   "source": [
    "# 661. Image Smoother\n",
    "# Solved\n",
    "# Easy\n",
    "# Topics\n",
    "# Companies\n",
    "# An image smoother is a filter of the size 3 x 3 that can be applied to each cell of an image by rounding down the average of the cell and the eight surrounding cells (i.e., the average of the nine cells in the blue smoother). If one or more of the surrounding cells of a cell is not present, we do not consider it in the average (i.e., the average of the four cells in the red smoother).\n",
    "\n",
    "img = [[1,1,1],[1,0,1],[1,1,1]]\n",
    "# Output: [[0,0,0],[0,0,0],[0,0,0]]\n",
    "\n",
    "img = [[100,200,100],[200,50,200],[100,200,100]]\n",
    "# Output: [[137,141,137],[141,138,141],[137,141,137]]\n",
    "\n",
    "def get_sum(img, r, c):\n",
    "    s = 0\n",
    "    co = 0\n",
    "\n",
    "    for i in range(-1, 2):\n",
    "        for j in range(-1, 2):\n",
    "            nx = r+i\n",
    "            ny = c+j\n",
    "            if nx<0 or ny<0 or nx>= len(img) or ny >= len(img[0]):\n",
    "                continue\n",
    "            # else:\n",
    "\n",
    "            s+= img[nx][ny]\n",
    "            co+= 1\n",
    "\n",
    "    if s != 0:\n",
    "        s =s//co\n",
    "    return s\n",
    "\n",
    "smooth = [[0 for i in range(len(img[0]))] for j in range(len(img))]\n",
    "\n",
    "for i in range(len(img)):\n",
    "    for j in range(len(img[0])):\n",
    "        smooth[i][j] = get_sum(img, i, j)\n",
    "\n",
    "print(smooth)\n"
   ]
  },
  {
   "cell_type": "code",
   "execution_count": 54,
   "metadata": {},
   "outputs": [
    {
     "name": "stdout",
     "output_type": "stream",
     "text": [
      "['1', '1']\n"
     ]
    },
    {
     "data": {
      "text/plain": [
       "'2A0B'"
      ]
     },
     "execution_count": 54,
     "metadata": {},
     "output_type": "execute_result"
    }
   ],
   "source": [
    "# 299. Bulls and Cows\n",
    "# Solved\n",
    "# Medium\n",
    "# Topics\n",
    "# Companies\n",
    "# You are playing the Bulls and Cows game with your friend.\n",
    "\n",
    "# You write down a secret number and ask your friend to guess what the number is. When your friend makes a guess, you provide a hint with the following info:\n",
    "\n",
    "# The number of \"bulls\", which are digits in the guess that are in the correct position.\n",
    "# The number of \"cows\", which are digits in the guess that are in your secret number but are located in the wrong position. Specifically, the non-bull digits in the guess that could be rearranged such that they become bulls.\n",
    "# Given the secret number secret and your friend's guess guess, return the hint for your friend's guess.\n",
    "\n",
    "# The hint should be formatted as \"xAyB\", where x is the number of bulls and y is the number of cows. Note that both secret and guess may contain duplicate digits.\n",
    "\n",
    "secret = \"1807\"\n",
    "guess = \"7810\"\n",
    "# Output: \"1A3B\"\n",
    "\n",
    "secret = \"1123\"\n",
    "guess = \"0111\"\n",
    "# Output: \"1A1B\"\n",
    "\n",
    "secret =\"11\"\n",
    "guess =\"11\"\n",
    "# 2A0B\n",
    "\n",
    "def get_bull_cow(secret, guess):\n",
    "    # 1) __build_class__  \n",
    "    # 2) array withoutbulls\n",
    "    # 3) no of same \n",
    "    b = 0\n",
    "    c = 0\n",
    "\n",
    "    secret = [i for i in secret]\n",
    "    guess = [i for i in guess]\n",
    "    print(guess)\n",
    "    i = 0\n",
    "    while i<len(secret):\n",
    "        if secret[i] == guess[i]:\n",
    "            b+= 1\n",
    "            secret.pop(i)\n",
    "            guess.pop(i)\n",
    "        else:\n",
    "            i += 1\n",
    "\n",
    "\n",
    "    if len(secret) > 0:\n",
    "        for i in range(len(secret)):\n",
    "            if secret[i] in guess:\n",
    "                guess.pop(guess.index(secret[i]))\n",
    "                c += 1\n",
    "    \n",
    "    return f\"{b}A{c}B\"\n",
    "\n",
    "\n",
    "get_bull_cow(secret, guess)"
   ]
  },
  {
   "cell_type": "code",
   "execution_count": 66,
   "metadata": {},
   "outputs": [
    {
     "data": {
      "text/plain": [
       "16"
      ]
     },
     "execution_count": 66,
     "metadata": {},
     "output_type": "execute_result"
    }
   ],
   "source": [
    "# 462. Minimum Moves to Equal Array Elements II\n",
    "# Medium\n",
    "# Given an integer array nums of size n, return the minimum number of moves required to make all array elements equal.\n",
    "\n",
    "# In one move, you can increment or decrement an element of the array by 1.\n",
    "\n",
    "# Test cases are designed so that the answer will fit in a 32-bit integer.\n",
    "\n",
    "nums = [1,2,3]\n",
    "# Output: 2\n",
    "nums = [1,10,2,9]\n",
    "# Output: 16\n",
    "# nums = [1,0,0,8,6]\n",
    "# Output\n",
    "# 16\n",
    "# Expected\n",
    "# 14\n",
    "\n",
    "def min_moves(nums):\n",
    "    if len(nums) == 1:\n",
    "        return 0\n",
    "    \n",
    "    nums.sort()\n",
    "    median = nums[len(nums) // 2]\n",
    "    total_moves = sum(abs(num - median) for num in nums)\n",
    "    return total_moves\n",
    "min_moves(nums)"
   ]
  },
  {
   "cell_type": "code",
   "execution_count": 73,
   "metadata": {},
   "outputs": [
    {
     "name": "stdout",
     "output_type": "stream",
     "text": [
      "False\n"
     ]
    }
   ],
   "source": [
    "# 1401. Circle and Rectangle Overlapping\n",
    "# Medium\n",
    "# You are given a circle represented as (radius, xCenter, yCenter) and an axis-aligned rectangle represented as (x1, y1, x2, y2), where (x1, y1) are the coordinates of the bottom-left corner, and (x2, y2) are the coordinates of the top-right corner of the rectangle.\n",
    "# Return true if the circle and rectangle are overlapped otherwise return false. In other words, check if there is any point (xi, yi) that belongs to the circle and the rectangle at the same time.\n",
    "\n",
    "\n",
    "radius = 1\n",
    "xCenter = 0 \n",
    "yCenter = 0 \n",
    "x1 = 1\n",
    "y1 = -1\n",
    "x2 = 3 \n",
    "y2 = 1\n",
    "# Output: true\n",
    "\n",
    "def checkOverlap(self, r, x_c, y_c, x1, y1, x2, y2):\n",
    "    corners = [(x1,y1), (x2,y1), (x2,y2), (x1, y2)]\n",
    "    for (x, y) in corners:\n",
    "        if (x_c - x)**2 + (y_c - y)**2 <= r**2:\n",
    "            return True\n",
    "\n",
    "    for x in [x1, x2]:\n",
    "        if x_c-r <= x <= x_c+r and y1<=y_c<=y2:\n",
    "            return True\n",
    "    for y in [y1, y2]:\n",
    "        if y_c-r <= y <= y_c+r and x1<=x_c<=x2:\n",
    "            return True\n",
    "            \n",
    "    if x1<=x_c<=x2 and y1<=y_c<=y2:\n",
    "        return True\n",
    "    return False          "
   ]
  },
  {
   "cell_type": "code",
   "execution_count": 15,
   "metadata": {},
   "outputs": [
    {
     "name": "stdout",
     "output_type": "stream",
     "text": [
      "3 2\n"
     ]
    }
   ],
   "source": [
    "N = 3\n",
    "arr = [1, 3, 3]\n",
    "# arr = [2,2]\n",
    "# Output: 3 2\n",
    "c = 1\n",
    "x = []\n",
    "repeat = 0\n",
    "notin = 0\n",
    "g = False\n",
    "for i in range(len(arr)):\n",
    "    if arr[i] in x:\n",
    "        repeat = arr[i]\n",
    "    else:\n",
    "        x.append(arr[i])\n",
    "        \n",
    "    # if arr[i] >= i+1 and g == False:\n",
    "    #     g = True\n",
    "    #     notin = arr[i]+1\n",
    "for i in range(len(arr)):\n",
    "    if arr[i]>i+1:\n",
    "        notin = i+1\n",
    "        break\n",
    "\n",
    "print( repeat, notin)"
   ]
  },
  {
   "cell_type": "code",
   "execution_count": null,
   "metadata": {},
   "outputs": [],
   "source": []
  },
  {
   "cell_type": "code",
   "execution_count": null,
   "metadata": {},
   "outputs": [],
   "source": []
  },
  {
   "cell_type": "code",
   "execution_count": null,
   "metadata": {},
   "outputs": [],
   "source": [
    "\n"
   ]
  }
 ],
 "metadata": {
  "kernelspec": {
   "display_name": "base",
   "language": "python",
   "name": "python3"
  },
  "language_info": {
   "codemirror_mode": {
    "name": "ipython",
    "version": 3
   },
   "file_extension": ".py",
   "mimetype": "text/x-python",
   "name": "python",
   "nbconvert_exporter": "python",
   "pygments_lexer": "ipython3",
   "version": "3.9.7"
  }
 },
 "nbformat": 4,
 "nbformat_minor": 2
}
