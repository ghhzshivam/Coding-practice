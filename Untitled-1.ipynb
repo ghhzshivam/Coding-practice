{
 "cells": [
  {
   "cell_type": "code",
   "execution_count": 3,
   "metadata": {},
   "outputs": [],
   "source": [
    "# 1. Two Sum\n",
    "# Given an array of integers nums and an integer target, return indices of the two numbers such that they add up to target.\n",
    "\n",
    "# You may assume that each input would have exactly one solution, and you may not use the same element twice.\n",
    "\n",
    "# You can return the answer in any order.\n",
    "\n",
    "# Example 1:\n",
    "\n",
    "# Input: nums = [2,7,11,15], target = 9\n",
    "# Output: [0,1]\n",
    "# Explanation: Because nums[0] + nums[1] == 9, we return [0, 1].\n",
    "# Example 2:\n",
    "\n",
    "# Input: nums = [3,2,4], target = 6\n",
    "# Output: [1,2]\n"
   ]
  },
  {
   "cell_type": "code",
   "execution_count": 8,
   "metadata": {},
   "outputs": [
    {
     "data": {
      "text/plain": [
       "[[2, 7]]"
      ]
     },
     "execution_count": 8,
     "metadata": {},
     "output_type": "execute_result"
    }
   ],
   "source": [
    "nums = [2,7,11,15]\n",
    "target = 9\n",
    "l = []\n",
    "for i in range(len(nums)):\n",
    "    for j in range(i+1, len(nums)):\n",
    "        if nums[i]+nums[j] == target:\n",
    "            l.append([nums[i],nums[j]])\n",
    "    \n",
    "l\n",
    "# Output: [0,1]\n"
   ]
  },
  {
   "cell_type": "code",
   "execution_count": 26,
   "metadata": {},
   "outputs": [
    {
     "name": "stdout",
     "output_type": "stream",
     "text": [
      "pwwk\n",
      "4\n"
     ]
    }
   ],
   "source": [
    "# Given a string s, find the length of the longest substring without repeating characters.\n",
    "\n",
    "\n",
    "# Input: s = \"pwwkew\"\n",
    "# Output: 3\n",
    "# Explanation: The answer is \"wke\", with the length of 3.\n",
    "# Notice that the answer must be a substring, \"pwke\" is a subsequence and not a substring.\n",
    "\n",
    "from re import L\n",
    "\n",
    "\n",
    "s = \"pwwkew\"\n",
    "# l = 0\n",
    "# co = 0\n",
    "# for i in range(len(s)):\n",
    "#     for j in range(i+1, len(s)):\n",
    "#         if s[i] ==s[j]:\n",
    "#             count = 0\n",
    "#             break\n",
    "        \n",
    "#         elif count>=l and count>=1:\n",
    "#             l = count\n",
    "#         else:\n",
    "#             count+=1\n",
    "# print(l)\n",
    "# print(co)\n",
    "l = \"\"\n",
    "l1 = s[0]\n",
    "for i in range(1,len(s)):\n",
    "    if s[i] not  in l:\n",
    "        \n",
    "        if len(l1)>= 0 and len(l1)>= len(l):\n",
    "            l = l1\n",
    "\n",
    "        l1 = l1 +s[i]\n",
    "    else:\n",
    "        \n",
    "        l1 = ''\n",
    "\n",
    "    \n",
    "\n",
    "\n",
    "print(l)\n",
    "print(len(l))"
   ]
  },
  {
   "cell_type": "code",
   "execution_count": null,
   "metadata": {},
   "outputs": [],
   "source": []
  },
  {
   "cell_type": "code",
   "execution_count": null,
   "metadata": {},
   "outputs": [],
   "source": [
    "# 9. Palindrome Number\n",
    "# Easy\n",
    "# 7.4K\n",
    "# 2.3K\n",
    "# Companies\n",
    "# Given an integer x, return true if x is palindrome integer.\n",
    "\n",
    "# An integer is a palindrome when it reads the same backward as forward.\n",
    "\n",
    "# For example, 121 is a palindrome while 123 is not.\n",
    "\n",
    "\n",
    "x = 121\n",
    "b = str(x)\n",
    "return (if b == b[::-1]):\n",
    "\n",
    "def isPalindrome(self, x: int) -> bool:\n",
    "\tif x < 0 or (x > 0 and x%10 == 0):   # if x is negative, return False. if x is positive and last digit is 0, that also cannot form a palindrome, return False.\n",
    "\t\treturn False\n",
    "\t\n",
    "\tresult = 0\n",
    "\twhile x > result:\n",
    "\t\tresult = result * 10 + x % 10\n",
    "\t\tx = x // 10\n",
    "\t\t\n",
    "\treturn True if (x == result or x == result // 10) else False\n"
   ]
  },
  {
   "cell_type": "code",
   "execution_count": 28,
   "metadata": {},
   "outputs": [
    {
     "data": {
      "text/plain": [
       "5.0"
      ]
     },
     "execution_count": 28,
     "metadata": {},
     "output_type": "execute_result"
    }
   ],
   "source": [
    "# You are climbing a staircase. It takes n steps to reach the top.\n",
    "# Each time you can either climb 1 or 2 steps. In how many distinct ways can you climb to the top?\n",
    "\n",
    "n = 3\n",
    "if n%2==0:\n",
    "    a =n/2\n",
    "else:\n",
    "    a = (n+1)/2\n",
    "total = n +a\n",
    "total"
   ]
  },
  {
   "cell_type": "code",
   "execution_count": null,
   "metadata": {},
   "outputs": [],
   "source": []
  }
 ],
 "metadata": {
  "kernelspec": {
   "display_name": "Python 3.9.7 ('base')",
   "language": "python",
   "name": "python3"
  },
  "language_info": {
   "codemirror_mode": {
    "name": "ipython",
    "version": 3
   },
   "file_extension": ".py",
   "mimetype": "text/x-python",
   "name": "python",
   "nbconvert_exporter": "python",
   "pygments_lexer": "ipython3",
   "version": "3.9.7"
  },
  "orig_nbformat": 4,
  "vscode": {
   "interpreter": {
    "hash": "ad2bdc8ecc057115af97d19610ffacc2b4e99fae6737bb82f5d7fb13d2f2c186"
   }
  }
 },
 "nbformat": 4,
 "nbformat_minor": 2
}
