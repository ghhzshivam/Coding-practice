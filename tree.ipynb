{
 "cells": [
  {
   "attachments": {},
   "cell_type": "markdown",
   "metadata": {},
   "source": [
    "Ways to represent: \n",
    "\n",
    "Trees can be represented in two ways as listed below:\n",
    "\n",
    "    Dynamic Node Representation (Linked Representation).\n",
    "\n",
    "    Array Representation (Sequential Representation).\n",
    "\n",
    "\n",
    "if array 0-n-1 so if p father so left son = (2*p)+1 and right son = (2*p)+2 \n",
    "\n",
    "\n",
    "if array 1-n so if p father so left son = (2*p) and right son = (2*p)+1 "
   ]
  },
  {
   "cell_type": "code",
   "execution_count": 2,
   "metadata": {},
   "outputs": [
    {
     "name": "stdout",
     "output_type": "stream",
     "text": [
      "A\n",
      "B\n",
      "C\n",
      "D\n",
      "G\n",
      "-\n",
      "F\n",
      "-\n",
      "-\n",
      "-\n"
     ]
    }
   ],
   "source": [
    "tree = [None]*10\n",
    "\n",
    "def root(value):\n",
    "    if tree[0] !=None:\n",
    "        print('spot taken')\n",
    "    else:\n",
    "        tree[0] = value\n",
    "\n",
    "def set_left(value, parent):\n",
    "    if tree[parent] ==None:\n",
    "        print('cannot push node in the tree')\n",
    "    else:\n",
    "        tree[parent*2+1] = value\n",
    "\n",
    "def set_right(value, parent):\n",
    "    if tree[parent] ==None:\n",
    "        print('cannot push node in the tree')\n",
    "    else:\n",
    "        tree[parent*2+2] = value\n",
    "\n",
    "def print_tree():\n",
    "    for i in range(len(tree)):\n",
    "        if tree[i] !=None:\n",
    "            print(tree[i])\n",
    "        else:\n",
    "            print('-')\n",
    "\n",
    "\n",
    "# Driver Code\n",
    "root('A')\n",
    "\n",
    "set_left('B', 0)\n",
    "set_right('C', 0)\n",
    "set_left('D', 1)\n",
    "set_right('E', 1)\n",
    "set_right('F', 2)\n",
    "set_right('G', 1)\n",
    "print_tree()\n",
    " "
   ]
  },
  {
   "cell_type": "code",
   "execution_count": 1,
   "metadata": {},
   "outputs": [],
   "source": [
    "class Node:\n",
    "    def __init__(self, data):\n",
    "        self.data = data\n",
    "        self.right = None\n",
    "        self.left = None\n",
    "\n",
    "class Binary_tree:\n",
    "\n",
    "    def __init__(self, root):\n",
    "        self.root = root\n",
    "\n",
    "    def insert(self, data):\n",
    "\n",
    "        pass\n",
    "\n",
    "    def print_tree(self):\n",
    "        pass\n",
    "\n",
    "    "
   ]
  },
  {
   "cell_type": "code",
   "execution_count": 2,
   "metadata": {},
   "outputs": [],
   "source": [
    "tree = Binary_tree(12)\n",
    "tree.insert(0)"
   ]
  },
  {
   "cell_type": "code",
   "execution_count": null,
   "metadata": {},
   "outputs": [],
   "source": []
  },
  {
   "cell_type": "code",
   "execution_count": null,
   "metadata": {},
   "outputs": [],
   "source": []
  },
  {
   "cell_type": "code",
   "execution_count": null,
   "metadata": {},
   "outputs": [],
   "source": []
  },
  {
   "cell_type": "code",
   "execution_count": null,
   "metadata": {},
   "outputs": [],
   "source": []
  },
  {
   "cell_type": "code",
   "execution_count": null,
   "metadata": {},
   "outputs": [],
   "source": []
  },
  {
   "cell_type": "code",
   "execution_count": null,
   "metadata": {},
   "outputs": [],
   "source": []
  },
  {
   "cell_type": "code",
   "execution_count": null,
   "metadata": {},
   "outputs": [],
   "source": []
  }
 ],
 "metadata": {
  "kernelspec": {
   "display_name": "base",
   "language": "python",
   "name": "python3"
  },
  "language_info": {
   "codemirror_mode": {
    "name": "ipython",
    "version": 3
   },
   "file_extension": ".py",
   "mimetype": "text/x-python",
   "name": "python",
   "nbconvert_exporter": "python",
   "pygments_lexer": "ipython3",
   "version": "3.9.7"
  },
  "orig_nbformat": 4
 },
 "nbformat": 4,
 "nbformat_minor": 2
}
